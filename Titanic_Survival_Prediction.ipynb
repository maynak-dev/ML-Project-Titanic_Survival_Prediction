{
  "nbformat": 4,
  "nbformat_minor": 0,
  "metadata": {
    "colab": {
      "provenance": [],
      "mount_file_id": "1FL49lZY7mToZqSOa5UXQjOh50r4yMPmw",
      "authorship_tag": "ABX9TyN0QONNgIl96Yq0qsueoeSB",
      "include_colab_link": true
    },
    "kernelspec": {
      "name": "python3",
      "display_name": "Python 3"
    },
    "language_info": {
      "name": "python"
    }
  },
  "cells": [
    {
      "cell_type": "markdown",
      "metadata": {
        "id": "view-in-github",
        "colab_type": "text"
      },
      "source": [
        "<a href=\"https://colab.research.google.com/github/maynak-dev/ML-Project-Titanic_Survival_Prediction/blob/main/Titanic_Survival_Prediction.ipynb\" target=\"_parent\"><img src=\"https://colab.research.google.com/assets/colab-badge.svg\" alt=\"Open In Colab\"/></a>"
      ]
    },
    {
      "cell_type": "code",
      "execution_count": 1,
      "metadata": {
        "id": "sftXNCy8wpe8"
      },
      "outputs": [],
      "source": [
        "#Importing the Dependencies\n",
        "import numpy as np\n",
        "import pandas as pd\n",
        "import matplotlib.pyplot as plt\n",
        "import seaborn as sns\n",
        "from sklearn.model_selection import train_test_split\n",
        "from sklearn.linear_model import LogisticRegression\n",
        "from sklearn.metrics import accuracy_score"
      ]
    },
    {
      "cell_type": "code",
      "source": [
        "# Data collection and Processing\n",
        "#load the data from csv to pandas dataframe\n",
        "titanic_data = pd.read_csv('/content/drive/MyDrive/DataSets/titanic/train.csv')"
      ],
      "metadata": {
        "id": "uN0U3fyWxJxY"
      },
      "execution_count": 2,
      "outputs": []
    },
    {
      "cell_type": "code",
      "source": [
        "#printing the first 5 rows of the dataset\n",
        "titanic_data.head()"
      ],
      "metadata": {
        "colab": {
          "base_uri": "https://localhost:8080/",
          "height": 258
        },
        "id": "Ghad8SxX20SF",
        "outputId": "17d3c0e0-ddc6-4d62-d181-4205d1eec898"
      },
      "execution_count": 3,
      "outputs": [
        {
          "output_type": "execute_result",
          "data": {
            "text/plain": [
              "   PassengerId  Survived  Pclass  \\\n",
              "0            1         0       3   \n",
              "1            2         1       1   \n",
              "2            3         1       3   \n",
              "3            4         1       1   \n",
              "4            5         0       3   \n",
              "\n",
              "                                                Name     Sex   Age  SibSp  \\\n",
              "0                            Braund, Mr. Owen Harris    male  22.0      1   \n",
              "1  Cumings, Mrs. John Bradley (Florence Briggs Th...  female  38.0      1   \n",
              "2                             Heikkinen, Miss. Laina  female  26.0      0   \n",
              "3       Futrelle, Mrs. Jacques Heath (Lily May Peel)  female  35.0      1   \n",
              "4                           Allen, Mr. William Henry    male  35.0      0   \n",
              "\n",
              "   Parch            Ticket     Fare Cabin Embarked  \n",
              "0      0         A/5 21171   7.2500   NaN        S  \n",
              "1      0          PC 17599  71.2833   C85        C  \n",
              "2      0  STON/O2. 3101282   7.9250   NaN        S  \n",
              "3      0            113803  53.1000  C123        S  \n",
              "4      0            373450   8.0500   NaN        S  "
            ],
            "text/html": [
              "\n",
              "  <div id=\"df-3c44d734-1c18-445c-85e4-d0044a6e1195\" class=\"colab-df-container\">\n",
              "    <div>\n",
              "<style scoped>\n",
              "    .dataframe tbody tr th:only-of-type {\n",
              "        vertical-align: middle;\n",
              "    }\n",
              "\n",
              "    .dataframe tbody tr th {\n",
              "        vertical-align: top;\n",
              "    }\n",
              "\n",
              "    .dataframe thead th {\n",
              "        text-align: right;\n",
              "    }\n",
              "</style>\n",
              "<table border=\"1\" class=\"dataframe\">\n",
              "  <thead>\n",
              "    <tr style=\"text-align: right;\">\n",
              "      <th></th>\n",
              "      <th>PassengerId</th>\n",
              "      <th>Survived</th>\n",
              "      <th>Pclass</th>\n",
              "      <th>Name</th>\n",
              "      <th>Sex</th>\n",
              "      <th>Age</th>\n",
              "      <th>SibSp</th>\n",
              "      <th>Parch</th>\n",
              "      <th>Ticket</th>\n",
              "      <th>Fare</th>\n",
              "      <th>Cabin</th>\n",
              "      <th>Embarked</th>\n",
              "    </tr>\n",
              "  </thead>\n",
              "  <tbody>\n",
              "    <tr>\n",
              "      <th>0</th>\n",
              "      <td>1</td>\n",
              "      <td>0</td>\n",
              "      <td>3</td>\n",
              "      <td>Braund, Mr. Owen Harris</td>\n",
              "      <td>male</td>\n",
              "      <td>22.0</td>\n",
              "      <td>1</td>\n",
              "      <td>0</td>\n",
              "      <td>A/5 21171</td>\n",
              "      <td>7.2500</td>\n",
              "      <td>NaN</td>\n",
              "      <td>S</td>\n",
              "    </tr>\n",
              "    <tr>\n",
              "      <th>1</th>\n",
              "      <td>2</td>\n",
              "      <td>1</td>\n",
              "      <td>1</td>\n",
              "      <td>Cumings, Mrs. John Bradley (Florence Briggs Th...</td>\n",
              "      <td>female</td>\n",
              "      <td>38.0</td>\n",
              "      <td>1</td>\n",
              "      <td>0</td>\n",
              "      <td>PC 17599</td>\n",
              "      <td>71.2833</td>\n",
              "      <td>C85</td>\n",
              "      <td>C</td>\n",
              "    </tr>\n",
              "    <tr>\n",
              "      <th>2</th>\n",
              "      <td>3</td>\n",
              "      <td>1</td>\n",
              "      <td>3</td>\n",
              "      <td>Heikkinen, Miss. Laina</td>\n",
              "      <td>female</td>\n",
              "      <td>26.0</td>\n",
              "      <td>0</td>\n",
              "      <td>0</td>\n",
              "      <td>STON/O2. 3101282</td>\n",
              "      <td>7.9250</td>\n",
              "      <td>NaN</td>\n",
              "      <td>S</td>\n",
              "    </tr>\n",
              "    <tr>\n",
              "      <th>3</th>\n",
              "      <td>4</td>\n",
              "      <td>1</td>\n",
              "      <td>1</td>\n",
              "      <td>Futrelle, Mrs. Jacques Heath (Lily May Peel)</td>\n",
              "      <td>female</td>\n",
              "      <td>35.0</td>\n",
              "      <td>1</td>\n",
              "      <td>0</td>\n",
              "      <td>113803</td>\n",
              "      <td>53.1000</td>\n",
              "      <td>C123</td>\n",
              "      <td>S</td>\n",
              "    </tr>\n",
              "    <tr>\n",
              "      <th>4</th>\n",
              "      <td>5</td>\n",
              "      <td>0</td>\n",
              "      <td>3</td>\n",
              "      <td>Allen, Mr. William Henry</td>\n",
              "      <td>male</td>\n",
              "      <td>35.0</td>\n",
              "      <td>0</td>\n",
              "      <td>0</td>\n",
              "      <td>373450</td>\n",
              "      <td>8.0500</td>\n",
              "      <td>NaN</td>\n",
              "      <td>S</td>\n",
              "    </tr>\n",
              "  </tbody>\n",
              "</table>\n",
              "</div>\n",
              "    <div class=\"colab-df-buttons\">\n",
              "\n",
              "  <div class=\"colab-df-container\">\n",
              "    <button class=\"colab-df-convert\" onclick=\"convertToInteractive('df-3c44d734-1c18-445c-85e4-d0044a6e1195')\"\n",
              "            title=\"Convert this dataframe to an interactive table.\"\n",
              "            style=\"display:none;\">\n",
              "\n",
              "  <svg xmlns=\"http://www.w3.org/2000/svg\" height=\"24px\" viewBox=\"0 -960 960 960\">\n",
              "    <path d=\"M120-120v-720h720v720H120Zm60-500h600v-160H180v160Zm220 220h160v-160H400v160Zm0 220h160v-160H400v160ZM180-400h160v-160H180v160Zm440 0h160v-160H620v160ZM180-180h160v-160H180v160Zm440 0h160v-160H620v160Z\"/>\n",
              "  </svg>\n",
              "    </button>\n",
              "\n",
              "  <style>\n",
              "    .colab-df-container {\n",
              "      display:flex;\n",
              "      gap: 12px;\n",
              "    }\n",
              "\n",
              "    .colab-df-convert {\n",
              "      background-color: #E8F0FE;\n",
              "      border: none;\n",
              "      border-radius: 50%;\n",
              "      cursor: pointer;\n",
              "      display: none;\n",
              "      fill: #1967D2;\n",
              "      height: 32px;\n",
              "      padding: 0 0 0 0;\n",
              "      width: 32px;\n",
              "    }\n",
              "\n",
              "    .colab-df-convert:hover {\n",
              "      background-color: #E2EBFA;\n",
              "      box-shadow: 0px 1px 2px rgba(60, 64, 67, 0.3), 0px 1px 3px 1px rgba(60, 64, 67, 0.15);\n",
              "      fill: #174EA6;\n",
              "    }\n",
              "\n",
              "    .colab-df-buttons div {\n",
              "      margin-bottom: 4px;\n",
              "    }\n",
              "\n",
              "    [theme=dark] .colab-df-convert {\n",
              "      background-color: #3B4455;\n",
              "      fill: #D2E3FC;\n",
              "    }\n",
              "\n",
              "    [theme=dark] .colab-df-convert:hover {\n",
              "      background-color: #434B5C;\n",
              "      box-shadow: 0px 1px 3px 1px rgba(0, 0, 0, 0.15);\n",
              "      filter: drop-shadow(0px 1px 2px rgba(0, 0, 0, 0.3));\n",
              "      fill: #FFFFFF;\n",
              "    }\n",
              "  </style>\n",
              "\n",
              "    <script>\n",
              "      const buttonEl =\n",
              "        document.querySelector('#df-3c44d734-1c18-445c-85e4-d0044a6e1195 button.colab-df-convert');\n",
              "      buttonEl.style.display =\n",
              "        google.colab.kernel.accessAllowed ? 'block' : 'none';\n",
              "\n",
              "      async function convertToInteractive(key) {\n",
              "        const element = document.querySelector('#df-3c44d734-1c18-445c-85e4-d0044a6e1195');\n",
              "        const dataTable =\n",
              "          await google.colab.kernel.invokeFunction('convertToInteractive',\n",
              "                                                    [key], {});\n",
              "        if (!dataTable) return;\n",
              "\n",
              "        const docLinkHtml = 'Like what you see? Visit the ' +\n",
              "          '<a target=\"_blank\" href=https://colab.research.google.com/notebooks/data_table.ipynb>data table notebook</a>'\n",
              "          + ' to learn more about interactive tables.';\n",
              "        element.innerHTML = '';\n",
              "        dataTable['output_type'] = 'display_data';\n",
              "        await google.colab.output.renderOutput(dataTable, element);\n",
              "        const docLink = document.createElement('div');\n",
              "        docLink.innerHTML = docLinkHtml;\n",
              "        element.appendChild(docLink);\n",
              "      }\n",
              "    </script>\n",
              "  </div>\n",
              "\n",
              "\n",
              "    <div id=\"df-b6029a17-2c58-43d0-a103-06accb601df0\">\n",
              "      <button class=\"colab-df-quickchart\" onclick=\"quickchart('df-b6029a17-2c58-43d0-a103-06accb601df0')\"\n",
              "                title=\"Suggest charts\"\n",
              "                style=\"display:none;\">\n",
              "\n",
              "<svg xmlns=\"http://www.w3.org/2000/svg\" height=\"24px\"viewBox=\"0 0 24 24\"\n",
              "     width=\"24px\">\n",
              "    <g>\n",
              "        <path d=\"M19 3H5c-1.1 0-2 .9-2 2v14c0 1.1.9 2 2 2h14c1.1 0 2-.9 2-2V5c0-1.1-.9-2-2-2zM9 17H7v-7h2v7zm4 0h-2V7h2v10zm4 0h-2v-4h2v4z\"/>\n",
              "    </g>\n",
              "</svg>\n",
              "      </button>\n",
              "\n",
              "<style>\n",
              "  .colab-df-quickchart {\n",
              "      --bg-color: #E8F0FE;\n",
              "      --fill-color: #1967D2;\n",
              "      --hover-bg-color: #E2EBFA;\n",
              "      --hover-fill-color: #174EA6;\n",
              "      --disabled-fill-color: #AAA;\n",
              "      --disabled-bg-color: #DDD;\n",
              "  }\n",
              "\n",
              "  [theme=dark] .colab-df-quickchart {\n",
              "      --bg-color: #3B4455;\n",
              "      --fill-color: #D2E3FC;\n",
              "      --hover-bg-color: #434B5C;\n",
              "      --hover-fill-color: #FFFFFF;\n",
              "      --disabled-bg-color: #3B4455;\n",
              "      --disabled-fill-color: #666;\n",
              "  }\n",
              "\n",
              "  .colab-df-quickchart {\n",
              "    background-color: var(--bg-color);\n",
              "    border: none;\n",
              "    border-radius: 50%;\n",
              "    cursor: pointer;\n",
              "    display: none;\n",
              "    fill: var(--fill-color);\n",
              "    height: 32px;\n",
              "    padding: 0;\n",
              "    width: 32px;\n",
              "  }\n",
              "\n",
              "  .colab-df-quickchart:hover {\n",
              "    background-color: var(--hover-bg-color);\n",
              "    box-shadow: 0 1px 2px rgba(60, 64, 67, 0.3), 0 1px 3px 1px rgba(60, 64, 67, 0.15);\n",
              "    fill: var(--button-hover-fill-color);\n",
              "  }\n",
              "\n",
              "  .colab-df-quickchart-complete:disabled,\n",
              "  .colab-df-quickchart-complete:disabled:hover {\n",
              "    background-color: var(--disabled-bg-color);\n",
              "    fill: var(--disabled-fill-color);\n",
              "    box-shadow: none;\n",
              "  }\n",
              "\n",
              "  .colab-df-spinner {\n",
              "    border: 2px solid var(--fill-color);\n",
              "    border-color: transparent;\n",
              "    border-bottom-color: var(--fill-color);\n",
              "    animation:\n",
              "      spin 1s steps(1) infinite;\n",
              "  }\n",
              "\n",
              "  @keyframes spin {\n",
              "    0% {\n",
              "      border-color: transparent;\n",
              "      border-bottom-color: var(--fill-color);\n",
              "      border-left-color: var(--fill-color);\n",
              "    }\n",
              "    20% {\n",
              "      border-color: transparent;\n",
              "      border-left-color: var(--fill-color);\n",
              "      border-top-color: var(--fill-color);\n",
              "    }\n",
              "    30% {\n",
              "      border-color: transparent;\n",
              "      border-left-color: var(--fill-color);\n",
              "      border-top-color: var(--fill-color);\n",
              "      border-right-color: var(--fill-color);\n",
              "    }\n",
              "    40% {\n",
              "      border-color: transparent;\n",
              "      border-right-color: var(--fill-color);\n",
              "      border-top-color: var(--fill-color);\n",
              "    }\n",
              "    60% {\n",
              "      border-color: transparent;\n",
              "      border-right-color: var(--fill-color);\n",
              "    }\n",
              "    80% {\n",
              "      border-color: transparent;\n",
              "      border-right-color: var(--fill-color);\n",
              "      border-bottom-color: var(--fill-color);\n",
              "    }\n",
              "    90% {\n",
              "      border-color: transparent;\n",
              "      border-bottom-color: var(--fill-color);\n",
              "    }\n",
              "  }\n",
              "</style>\n",
              "\n",
              "      <script>\n",
              "        async function quickchart(key) {\n",
              "          const quickchartButtonEl =\n",
              "            document.querySelector('#' + key + ' button');\n",
              "          quickchartButtonEl.disabled = true;  // To prevent multiple clicks.\n",
              "          quickchartButtonEl.classList.add('colab-df-spinner');\n",
              "          try {\n",
              "            const charts = await google.colab.kernel.invokeFunction(\n",
              "                'suggestCharts', [key], {});\n",
              "          } catch (error) {\n",
              "            console.error('Error during call to suggestCharts:', error);\n",
              "          }\n",
              "          quickchartButtonEl.classList.remove('colab-df-spinner');\n",
              "          quickchartButtonEl.classList.add('colab-df-quickchart-complete');\n",
              "        }\n",
              "        (() => {\n",
              "          let quickchartButtonEl =\n",
              "            document.querySelector('#df-b6029a17-2c58-43d0-a103-06accb601df0 button');\n",
              "          quickchartButtonEl.style.display =\n",
              "            google.colab.kernel.accessAllowed ? 'block' : 'none';\n",
              "        })();\n",
              "      </script>\n",
              "    </div>\n",
              "\n",
              "    </div>\n",
              "  </div>\n"
            ],
            "application/vnd.google.colaboratory.intrinsic+json": {
              "type": "dataframe",
              "variable_name": "titanic_data",
              "summary": "{\n  \"name\": \"titanic_data\",\n  \"rows\": 891,\n  \"fields\": [\n    {\n      \"column\": \"PassengerId\",\n      \"properties\": {\n        \"dtype\": \"number\",\n        \"std\": 257,\n        \"min\": 1,\n        \"max\": 891,\n        \"num_unique_values\": 891,\n        \"samples\": [\n          710,\n          440,\n          841\n        ],\n        \"semantic_type\": \"\",\n        \"description\": \"\"\n      }\n    },\n    {\n      \"column\": \"Survived\",\n      \"properties\": {\n        \"dtype\": \"number\",\n        \"std\": 0,\n        \"min\": 0,\n        \"max\": 1,\n        \"num_unique_values\": 2,\n        \"samples\": [\n          1,\n          0\n        ],\n        \"semantic_type\": \"\",\n        \"description\": \"\"\n      }\n    },\n    {\n      \"column\": \"Pclass\",\n      \"properties\": {\n        \"dtype\": \"number\",\n        \"std\": 0,\n        \"min\": 1,\n        \"max\": 3,\n        \"num_unique_values\": 3,\n        \"samples\": [\n          3,\n          1\n        ],\n        \"semantic_type\": \"\",\n        \"description\": \"\"\n      }\n    },\n    {\n      \"column\": \"Name\",\n      \"properties\": {\n        \"dtype\": \"string\",\n        \"num_unique_values\": 891,\n        \"samples\": [\n          \"Moubarek, Master. Halim Gonios (\\\"William George\\\")\",\n          \"Kvillner, Mr. Johan Henrik Johannesson\"\n        ],\n        \"semantic_type\": \"\",\n        \"description\": \"\"\n      }\n    },\n    {\n      \"column\": \"Sex\",\n      \"properties\": {\n        \"dtype\": \"category\",\n        \"num_unique_values\": 2,\n        \"samples\": [\n          \"female\",\n          \"male\"\n        ],\n        \"semantic_type\": \"\",\n        \"description\": \"\"\n      }\n    },\n    {\n      \"column\": \"Age\",\n      \"properties\": {\n        \"dtype\": \"number\",\n        \"std\": 14.526497332334044,\n        \"min\": 0.42,\n        \"max\": 80.0,\n        \"num_unique_values\": 88,\n        \"samples\": [\n          0.75,\n          22.0\n        ],\n        \"semantic_type\": \"\",\n        \"description\": \"\"\n      }\n    },\n    {\n      \"column\": \"SibSp\",\n      \"properties\": {\n        \"dtype\": \"number\",\n        \"std\": 1,\n        \"min\": 0,\n        \"max\": 8,\n        \"num_unique_values\": 7,\n        \"samples\": [\n          1,\n          0\n        ],\n        \"semantic_type\": \"\",\n        \"description\": \"\"\n      }\n    },\n    {\n      \"column\": \"Parch\",\n      \"properties\": {\n        \"dtype\": \"number\",\n        \"std\": 0,\n        \"min\": 0,\n        \"max\": 6,\n        \"num_unique_values\": 7,\n        \"samples\": [\n          0,\n          1\n        ],\n        \"semantic_type\": \"\",\n        \"description\": \"\"\n      }\n    },\n    {\n      \"column\": \"Ticket\",\n      \"properties\": {\n        \"dtype\": \"string\",\n        \"num_unique_values\": 681,\n        \"samples\": [\n          \"11774\",\n          \"248740\"\n        ],\n        \"semantic_type\": \"\",\n        \"description\": \"\"\n      }\n    },\n    {\n      \"column\": \"Fare\",\n      \"properties\": {\n        \"dtype\": \"number\",\n        \"std\": 49.693428597180905,\n        \"min\": 0.0,\n        \"max\": 512.3292,\n        \"num_unique_values\": 248,\n        \"samples\": [\n          11.2417,\n          51.8625\n        ],\n        \"semantic_type\": \"\",\n        \"description\": \"\"\n      }\n    },\n    {\n      \"column\": \"Cabin\",\n      \"properties\": {\n        \"dtype\": \"category\",\n        \"num_unique_values\": 147,\n        \"samples\": [\n          \"D45\",\n          \"B49\"\n        ],\n        \"semantic_type\": \"\",\n        \"description\": \"\"\n      }\n    },\n    {\n      \"column\": \"Embarked\",\n      \"properties\": {\n        \"dtype\": \"category\",\n        \"num_unique_values\": 3,\n        \"samples\": [\n          \"S\",\n          \"C\"\n        ],\n        \"semantic_type\": \"\",\n        \"description\": \"\"\n      }\n    }\n  ]\n}"
            }
          },
          "metadata": {},
          "execution_count": 3
        }
      ]
    },
    {
      "cell_type": "markdown",
      "source": [
        "![Screenshot 2025-10-08 182027.png](data:image/png;base64,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)"
      ],
      "metadata": {
        "id": "QTbfCQ5B4PTe"
      }
    },
    {
      "cell_type": "markdown",
      "source": [
        "![Screenshot 2025-10-08 182042.png](data:image/png;base64,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)"
      ],
      "metadata": {
        "id": "17Tb92KJ4dqG"
      }
    },
    {
      "cell_type": "markdown",
      "source": [
        "![Screenshot 2025-10-08 182050.png](data:image/png;base64,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)"
      ],
      "metadata": {
        "id": "uLbFXPwT4jw_"
      }
    },
    {
      "cell_type": "code",
      "source": [
        "#no. of rows and columns\n",
        "titanic_data.shape"
      ],
      "metadata": {
        "colab": {
          "base_uri": "https://localhost:8080/"
        },
        "id": "W1lh0kRq4WRt",
        "outputId": "4f75ec63-695c-45db-9515-e88009b9a626"
      },
      "execution_count": 4,
      "outputs": [
        {
          "output_type": "execute_result",
          "data": {
            "text/plain": [
              "(891, 12)"
            ]
          },
          "metadata": {},
          "execution_count": 4
        }
      ]
    },
    {
      "cell_type": "code",
      "source": [
        "#Getting some information about the dataset\n",
        "titanic_data.info()"
      ],
      "metadata": {
        "colab": {
          "base_uri": "https://localhost:8080/"
        },
        "id": "s4n-TYv342ad",
        "outputId": "979e2e4e-641b-4035-d494-040c742e3830"
      },
      "execution_count": 5,
      "outputs": [
        {
          "output_type": "stream",
          "name": "stdout",
          "text": [
            "<class 'pandas.core.frame.DataFrame'>\n",
            "RangeIndex: 891 entries, 0 to 890\n",
            "Data columns (total 12 columns):\n",
            " #   Column       Non-Null Count  Dtype  \n",
            "---  ------       --------------  -----  \n",
            " 0   PassengerId  891 non-null    int64  \n",
            " 1   Survived     891 non-null    int64  \n",
            " 2   Pclass       891 non-null    int64  \n",
            " 3   Name         891 non-null    object \n",
            " 4   Sex          891 non-null    object \n",
            " 5   Age          714 non-null    float64\n",
            " 6   SibSp        891 non-null    int64  \n",
            " 7   Parch        891 non-null    int64  \n",
            " 8   Ticket       891 non-null    object \n",
            " 9   Fare         891 non-null    float64\n",
            " 10  Cabin        204 non-null    object \n",
            " 11  Embarked     889 non-null    object \n",
            "dtypes: float64(2), int64(5), object(5)\n",
            "memory usage: 83.7+ KB\n"
          ]
        }
      ]
    },
    {
      "cell_type": "code",
      "source": [
        "# check the number of missing values in each column\n",
        "titanic_data.isnull().sum()"
      ],
      "metadata": {
        "colab": {
          "base_uri": "https://localhost:8080/",
          "height": 460
        },
        "id": "nv4DkxD_5L3y",
        "outputId": "a1d0f677-3eb5-4111-a91c-7171f7bb9d74"
      },
      "execution_count": 6,
      "outputs": [
        {
          "output_type": "execute_result",
          "data": {
            "text/plain": [
              "PassengerId      0\n",
              "Survived         0\n",
              "Pclass           0\n",
              "Name             0\n",
              "Sex              0\n",
              "Age            177\n",
              "SibSp            0\n",
              "Parch            0\n",
              "Ticket           0\n",
              "Fare             0\n",
              "Cabin          687\n",
              "Embarked         2\n",
              "dtype: int64"
            ],
            "text/html": [
              "<div>\n",
              "<style scoped>\n",
              "    .dataframe tbody tr th:only-of-type {\n",
              "        vertical-align: middle;\n",
              "    }\n",
              "\n",
              "    .dataframe tbody tr th {\n",
              "        vertical-align: top;\n",
              "    }\n",
              "\n",
              "    .dataframe thead th {\n",
              "        text-align: right;\n",
              "    }\n",
              "</style>\n",
              "<table border=\"1\" class=\"dataframe\">\n",
              "  <thead>\n",
              "    <tr style=\"text-align: right;\">\n",
              "      <th></th>\n",
              "      <th>0</th>\n",
              "    </tr>\n",
              "  </thead>\n",
              "  <tbody>\n",
              "    <tr>\n",
              "      <th>PassengerId</th>\n",
              "      <td>0</td>\n",
              "    </tr>\n",
              "    <tr>\n",
              "      <th>Survived</th>\n",
              "      <td>0</td>\n",
              "    </tr>\n",
              "    <tr>\n",
              "      <th>Pclass</th>\n",
              "      <td>0</td>\n",
              "    </tr>\n",
              "    <tr>\n",
              "      <th>Name</th>\n",
              "      <td>0</td>\n",
              "    </tr>\n",
              "    <tr>\n",
              "      <th>Sex</th>\n",
              "      <td>0</td>\n",
              "    </tr>\n",
              "    <tr>\n",
              "      <th>Age</th>\n",
              "      <td>177</td>\n",
              "    </tr>\n",
              "    <tr>\n",
              "      <th>SibSp</th>\n",
              "      <td>0</td>\n",
              "    </tr>\n",
              "    <tr>\n",
              "      <th>Parch</th>\n",
              "      <td>0</td>\n",
              "    </tr>\n",
              "    <tr>\n",
              "      <th>Ticket</th>\n",
              "      <td>0</td>\n",
              "    </tr>\n",
              "    <tr>\n",
              "      <th>Fare</th>\n",
              "      <td>0</td>\n",
              "    </tr>\n",
              "    <tr>\n",
              "      <th>Cabin</th>\n",
              "      <td>687</td>\n",
              "    </tr>\n",
              "    <tr>\n",
              "      <th>Embarked</th>\n",
              "      <td>2</td>\n",
              "    </tr>\n",
              "  </tbody>\n",
              "</table>\n",
              "</div><br><label><b>dtype:</b> int64</label>"
            ]
          },
          "metadata": {},
          "execution_count": 6
        }
      ]
    },
    {
      "cell_type": "markdown",
      "source": [
        "**Handling the missing values**"
      ],
      "metadata": {
        "id": "H7LbJ-qm55iO"
      }
    },
    {
      "cell_type": "code",
      "source": [
        "# drop the \"Cabin\" column from the dataframe as most of the values are missing\n",
        "titanic_data = titanic_data.drop(columns='Cabin', axis=1)"
      ],
      "metadata": {
        "id": "F8Zrwz755lDg"
      },
      "execution_count": 7,
      "outputs": []
    },
    {
      "cell_type": "code",
      "source": [
        "# Replacing the missing values in \"Age\" column with mean values\n",
        "titanic_data['Age'].fillna(titanic_data['Age'].mean(), inplace=True)"
      ],
      "metadata": {
        "colab": {
          "base_uri": "https://localhost:8080/"
        },
        "id": "mM2qyPZg6hmJ",
        "outputId": "d59821b6-59cc-4057-b2fa-cfa9dc25859e"
      },
      "execution_count": 8,
      "outputs": [
        {
          "output_type": "stream",
          "name": "stderr",
          "text": [
            "/tmp/ipython-input-602317299.py:2: FutureWarning: A value is trying to be set on a copy of a DataFrame or Series through chained assignment using an inplace method.\n",
            "The behavior will change in pandas 3.0. This inplace method will never work because the intermediate object on which we are setting values always behaves as a copy.\n",
            "\n",
            "For example, when doing 'df[col].method(value, inplace=True)', try using 'df.method({col: value}, inplace=True)' or df[col] = df[col].method(value) instead, to perform the operation inplace on the original object.\n",
            "\n",
            "\n",
            "  titanic_data['Age'].fillna(titanic_data['Age'].mean(), inplace=True)\n"
          ]
        }
      ]
    },
    {
      "cell_type": "code",
      "source": [
        "# Finding the mode value of \"Embarked\" column\n",
        "print(titanic_data['Embarked'].mode())"
      ],
      "metadata": {
        "colab": {
          "base_uri": "https://localhost:8080/"
        },
        "id": "QwVl8Pwx67Yl",
        "outputId": "fbfcba7f-edfa-476a-ea79-1419b08719e8"
      },
      "execution_count": 9,
      "outputs": [
        {
          "output_type": "stream",
          "name": "stdout",
          "text": [
            "0    S\n",
            "Name: Embarked, dtype: object\n"
          ]
        }
      ]
    },
    {
      "cell_type": "code",
      "source": [
        "print(titanic_data['Embarked'].mode()[0])"
      ],
      "metadata": {
        "colab": {
          "base_uri": "https://localhost:8080/"
        },
        "id": "kb7BaWTr8QbM",
        "outputId": "666dc726-7db4-4232-8892-39a16612c47e"
      },
      "execution_count": 10,
      "outputs": [
        {
          "output_type": "stream",
          "name": "stdout",
          "text": [
            "S\n"
          ]
        }
      ]
    },
    {
      "cell_type": "code",
      "source": [
        "# Replacing the missing values in \"Embarked\" column with mode value\n",
        "titanic_data['Embarked'].fillna(titanic_data['Embarked'].mode()[0], inplace=True)"
      ],
      "metadata": {
        "colab": {
          "base_uri": "https://localhost:8080/"
        },
        "id": "ZuGVxO-M8c_j",
        "outputId": "c0c7d809-72ff-4346-e35b-c717b77b5b37"
      },
      "execution_count": 11,
      "outputs": [
        {
          "output_type": "stream",
          "name": "stderr",
          "text": [
            "/tmp/ipython-input-1625267106.py:2: FutureWarning: A value is trying to be set on a copy of a DataFrame or Series through chained assignment using an inplace method.\n",
            "The behavior will change in pandas 3.0. This inplace method will never work because the intermediate object on which we are setting values always behaves as a copy.\n",
            "\n",
            "For example, when doing 'df[col].method(value, inplace=True)', try using 'df.method({col: value}, inplace=True)' or df[col] = df[col].method(value) instead, to perform the operation inplace on the original object.\n",
            "\n",
            "\n",
            "  titanic_data['Embarked'].fillna(titanic_data['Embarked'].mode()[0], inplace=True)\n"
          ]
        }
      ]
    },
    {
      "cell_type": "code",
      "source": [
        "# Now again check the number of missing values in each column\n",
        "titanic_data.isnull().sum()"
      ],
      "metadata": {
        "colab": {
          "base_uri": "https://localhost:8080/",
          "height": 429
        },
        "id": "Q8M-OtSc8vQ3",
        "outputId": "5dda5882-6cab-421f-c3e7-bd85a1914d41"
      },
      "execution_count": 12,
      "outputs": [
        {
          "output_type": "execute_result",
          "data": {
            "text/plain": [
              "PassengerId    0\n",
              "Survived       0\n",
              "Pclass         0\n",
              "Name           0\n",
              "Sex            0\n",
              "Age            0\n",
              "SibSp          0\n",
              "Parch          0\n",
              "Ticket         0\n",
              "Fare           0\n",
              "Embarked       0\n",
              "dtype: int64"
            ],
            "text/html": [
              "<div>\n",
              "<style scoped>\n",
              "    .dataframe tbody tr th:only-of-type {\n",
              "        vertical-align: middle;\n",
              "    }\n",
              "\n",
              "    .dataframe tbody tr th {\n",
              "        vertical-align: top;\n",
              "    }\n",
              "\n",
              "    .dataframe thead th {\n",
              "        text-align: right;\n",
              "    }\n",
              "</style>\n",
              "<table border=\"1\" class=\"dataframe\">\n",
              "  <thead>\n",
              "    <tr style=\"text-align: right;\">\n",
              "      <th></th>\n",
              "      <th>0</th>\n",
              "    </tr>\n",
              "  </thead>\n",
              "  <tbody>\n",
              "    <tr>\n",
              "      <th>PassengerId</th>\n",
              "      <td>0</td>\n",
              "    </tr>\n",
              "    <tr>\n",
              "      <th>Survived</th>\n",
              "      <td>0</td>\n",
              "    </tr>\n",
              "    <tr>\n",
              "      <th>Pclass</th>\n",
              "      <td>0</td>\n",
              "    </tr>\n",
              "    <tr>\n",
              "      <th>Name</th>\n",
              "      <td>0</td>\n",
              "    </tr>\n",
              "    <tr>\n",
              "      <th>Sex</th>\n",
              "      <td>0</td>\n",
              "    </tr>\n",
              "    <tr>\n",
              "      <th>Age</th>\n",
              "      <td>0</td>\n",
              "    </tr>\n",
              "    <tr>\n",
              "      <th>SibSp</th>\n",
              "      <td>0</td>\n",
              "    </tr>\n",
              "    <tr>\n",
              "      <th>Parch</th>\n",
              "      <td>0</td>\n",
              "    </tr>\n",
              "    <tr>\n",
              "      <th>Ticket</th>\n",
              "      <td>0</td>\n",
              "    </tr>\n",
              "    <tr>\n",
              "      <th>Fare</th>\n",
              "      <td>0</td>\n",
              "    </tr>\n",
              "    <tr>\n",
              "      <th>Embarked</th>\n",
              "      <td>0</td>\n",
              "    </tr>\n",
              "  </tbody>\n",
              "</table>\n",
              "</div><br><label><b>dtype:</b> int64</label>"
            ]
          },
          "metadata": {},
          "execution_count": 12
        }
      ]
    },
    {
      "cell_type": "markdown",
      "source": [
        "**Data Analysis**"
      ],
      "metadata": {
        "id": "QIz10Ma49FZP"
      }
    },
    {
      "cell_type": "code",
      "source": [
        "# Getting some statistical measure about the data\n",
        "titanic_data.describe()"
      ],
      "metadata": {
        "colab": {
          "base_uri": "https://localhost:8080/",
          "height": 300
        },
        "id": "j3a7MKLy87gz",
        "outputId": "1f8e9763-1b40-4ece-82fa-756b75e81694"
      },
      "execution_count": 13,
      "outputs": [
        {
          "output_type": "execute_result",
          "data": {
            "text/plain": [
              "       PassengerId    Survived      Pclass         Age       SibSp  \\\n",
              "count   891.000000  891.000000  891.000000  891.000000  891.000000   \n",
              "mean    446.000000    0.383838    2.308642   29.699118    0.523008   \n",
              "std     257.353842    0.486592    0.836071   13.002015    1.102743   \n",
              "min       1.000000    0.000000    1.000000    0.420000    0.000000   \n",
              "25%     223.500000    0.000000    2.000000   22.000000    0.000000   \n",
              "50%     446.000000    0.000000    3.000000   29.699118    0.000000   \n",
              "75%     668.500000    1.000000    3.000000   35.000000    1.000000   \n",
              "max     891.000000    1.000000    3.000000   80.000000    8.000000   \n",
              "\n",
              "            Parch        Fare  \n",
              "count  891.000000  891.000000  \n",
              "mean     0.381594   32.204208  \n",
              "std      0.806057   49.693429  \n",
              "min      0.000000    0.000000  \n",
              "25%      0.000000    7.910400  \n",
              "50%      0.000000   14.454200  \n",
              "75%      0.000000   31.000000  \n",
              "max      6.000000  512.329200  "
            ],
            "text/html": [
              "\n",
              "  <div id=\"df-3dc4e7ee-484b-4f6a-834f-15d53d05e35e\" class=\"colab-df-container\">\n",
              "    <div>\n",
              "<style scoped>\n",
              "    .dataframe tbody tr th:only-of-type {\n",
              "        vertical-align: middle;\n",
              "    }\n",
              "\n",
              "    .dataframe tbody tr th {\n",
              "        vertical-align: top;\n",
              "    }\n",
              "\n",
              "    .dataframe thead th {\n",
              "        text-align: right;\n",
              "    }\n",
              "</style>\n",
              "<table border=\"1\" class=\"dataframe\">\n",
              "  <thead>\n",
              "    <tr style=\"text-align: right;\">\n",
              "      <th></th>\n",
              "      <th>PassengerId</th>\n",
              "      <th>Survived</th>\n",
              "      <th>Pclass</th>\n",
              "      <th>Age</th>\n",
              "      <th>SibSp</th>\n",
              "      <th>Parch</th>\n",
              "      <th>Fare</th>\n",
              "    </tr>\n",
              "  </thead>\n",
              "  <tbody>\n",
              "    <tr>\n",
              "      <th>count</th>\n",
              "      <td>891.000000</td>\n",
              "      <td>891.000000</td>\n",
              "      <td>891.000000</td>\n",
              "      <td>891.000000</td>\n",
              "      <td>891.000000</td>\n",
              "      <td>891.000000</td>\n",
              "      <td>891.000000</td>\n",
              "    </tr>\n",
              "    <tr>\n",
              "      <th>mean</th>\n",
              "      <td>446.000000</td>\n",
              "      <td>0.383838</td>\n",
              "      <td>2.308642</td>\n",
              "      <td>29.699118</td>\n",
              "      <td>0.523008</td>\n",
              "      <td>0.381594</td>\n",
              "      <td>32.204208</td>\n",
              "    </tr>\n",
              "    <tr>\n",
              "      <th>std</th>\n",
              "      <td>257.353842</td>\n",
              "      <td>0.486592</td>\n",
              "      <td>0.836071</td>\n",
              "      <td>13.002015</td>\n",
              "      <td>1.102743</td>\n",
              "      <td>0.806057</td>\n",
              "      <td>49.693429</td>\n",
              "    </tr>\n",
              "    <tr>\n",
              "      <th>min</th>\n",
              "      <td>1.000000</td>\n",
              "      <td>0.000000</td>\n",
              "      <td>1.000000</td>\n",
              "      <td>0.420000</td>\n",
              "      <td>0.000000</td>\n",
              "      <td>0.000000</td>\n",
              "      <td>0.000000</td>\n",
              "    </tr>\n",
              "    <tr>\n",
              "      <th>25%</th>\n",
              "      <td>223.500000</td>\n",
              "      <td>0.000000</td>\n",
              "      <td>2.000000</td>\n",
              "      <td>22.000000</td>\n",
              "      <td>0.000000</td>\n",
              "      <td>0.000000</td>\n",
              "      <td>7.910400</td>\n",
              "    </tr>\n",
              "    <tr>\n",
              "      <th>50%</th>\n",
              "      <td>446.000000</td>\n",
              "      <td>0.000000</td>\n",
              "      <td>3.000000</td>\n",
              "      <td>29.699118</td>\n",
              "      <td>0.000000</td>\n",
              "      <td>0.000000</td>\n",
              "      <td>14.454200</td>\n",
              "    </tr>\n",
              "    <tr>\n",
              "      <th>75%</th>\n",
              "      <td>668.500000</td>\n",
              "      <td>1.000000</td>\n",
              "      <td>3.000000</td>\n",
              "      <td>35.000000</td>\n",
              "      <td>1.000000</td>\n",
              "      <td>0.000000</td>\n",
              "      <td>31.000000</td>\n",
              "    </tr>\n",
              "    <tr>\n",
              "      <th>max</th>\n",
              "      <td>891.000000</td>\n",
              "      <td>1.000000</td>\n",
              "      <td>3.000000</td>\n",
              "      <td>80.000000</td>\n",
              "      <td>8.000000</td>\n",
              "      <td>6.000000</td>\n",
              "      <td>512.329200</td>\n",
              "    </tr>\n",
              "  </tbody>\n",
              "</table>\n",
              "</div>\n",
              "    <div class=\"colab-df-buttons\">\n",
              "\n",
              "  <div class=\"colab-df-container\">\n",
              "    <button class=\"colab-df-convert\" onclick=\"convertToInteractive('df-3dc4e7ee-484b-4f6a-834f-15d53d05e35e')\"\n",
              "            title=\"Convert this dataframe to an interactive table.\"\n",
              "            style=\"display:none;\">\n",
              "\n",
              "  <svg xmlns=\"http://www.w3.org/2000/svg\" height=\"24px\" viewBox=\"0 -960 960 960\">\n",
              "    <path d=\"M120-120v-720h720v720H120Zm60-500h600v-160H180v160Zm220 220h160v-160H400v160Zm0 220h160v-160H400v160ZM180-400h160v-160H180v160Zm440 0h160v-160H620v160ZM180-180h160v-160H180v160Zm440 0h160v-160H620v160Z\"/>\n",
              "  </svg>\n",
              "    </button>\n",
              "\n",
              "  <style>\n",
              "    .colab-df-container {\n",
              "      display:flex;\n",
              "      gap: 12px;\n",
              "    }\n",
              "\n",
              "    .colab-df-convert {\n",
              "      background-color: #E8F0FE;\n",
              "      border: none;\n",
              "      border-radius: 50%;\n",
              "      cursor: pointer;\n",
              "      display: none;\n",
              "      fill: #1967D2;\n",
              "      height: 32px;\n",
              "      padding: 0 0 0 0;\n",
              "      width: 32px;\n",
              "    }\n",
              "\n",
              "    .colab-df-convert:hover {\n",
              "      background-color: #E2EBFA;\n",
              "      box-shadow: 0px 1px 2px rgba(60, 64, 67, 0.3), 0px 1px 3px 1px rgba(60, 64, 67, 0.15);\n",
              "      fill: #174EA6;\n",
              "    }\n",
              "\n",
              "    .colab-df-buttons div {\n",
              "      margin-bottom: 4px;\n",
              "    }\n",
              "\n",
              "    [theme=dark] .colab-df-convert {\n",
              "      background-color: #3B4455;\n",
              "      fill: #D2E3FC;\n",
              "    }\n",
              "\n",
              "    [theme=dark] .colab-df-convert:hover {\n",
              "      background-color: #434B5C;\n",
              "      box-shadow: 0px 1px 3px 1px rgba(0, 0, 0, 0.15);\n",
              "      filter: drop-shadow(0px 1px 2px rgba(0, 0, 0, 0.3));\n",
              "      fill: #FFFFFF;\n",
              "    }\n",
              "  </style>\n",
              "\n",
              "    <script>\n",
              "      const buttonEl =\n",
              "        document.querySelector('#df-3dc4e7ee-484b-4f6a-834f-15d53d05e35e button.colab-df-convert');\n",
              "      buttonEl.style.display =\n",
              "        google.colab.kernel.accessAllowed ? 'block' : 'none';\n",
              "\n",
              "      async function convertToInteractive(key) {\n",
              "        const element = document.querySelector('#df-3dc4e7ee-484b-4f6a-834f-15d53d05e35e');\n",
              "        const dataTable =\n",
              "          await google.colab.kernel.invokeFunction('convertToInteractive',\n",
              "                                                    [key], {});\n",
              "        if (!dataTable) return;\n",
              "\n",
              "        const docLinkHtml = 'Like what you see? Visit the ' +\n",
              "          '<a target=\"_blank\" href=https://colab.research.google.com/notebooks/data_table.ipynb>data table notebook</a>'\n",
              "          + ' to learn more about interactive tables.';\n",
              "        element.innerHTML = '';\n",
              "        dataTable['output_type'] = 'display_data';\n",
              "        await google.colab.output.renderOutput(dataTable, element);\n",
              "        const docLink = document.createElement('div');\n",
              "        docLink.innerHTML = docLinkHtml;\n",
              "        element.appendChild(docLink);\n",
              "      }\n",
              "    </script>\n",
              "  </div>\n",
              "\n",
              "\n",
              "    <div id=\"df-e811f833-741b-4a1e-bc26-b611558ed4e7\">\n",
              "      <button class=\"colab-df-quickchart\" onclick=\"quickchart('df-e811f833-741b-4a1e-bc26-b611558ed4e7')\"\n",
              "                title=\"Suggest charts\"\n",
              "                style=\"display:none;\">\n",
              "\n",
              "<svg xmlns=\"http://www.w3.org/2000/svg\" height=\"24px\"viewBox=\"0 0 24 24\"\n",
              "     width=\"24px\">\n",
              "    <g>\n",
              "        <path d=\"M19 3H5c-1.1 0-2 .9-2 2v14c0 1.1.9 2 2 2h14c1.1 0 2-.9 2-2V5c0-1.1-.9-2-2-2zM9 17H7v-7h2v7zm4 0h-2V7h2v10zm4 0h-2v-4h2v4z\"/>\n",
              "    </g>\n",
              "</svg>\n",
              "      </button>\n",
              "\n",
              "<style>\n",
              "  .colab-df-quickchart {\n",
              "      --bg-color: #E8F0FE;\n",
              "      --fill-color: #1967D2;\n",
              "      --hover-bg-color: #E2EBFA;\n",
              "      --hover-fill-color: #174EA6;\n",
              "      --disabled-fill-color: #AAA;\n",
              "      --disabled-bg-color: #DDD;\n",
              "  }\n",
              "\n",
              "  [theme=dark] .colab-df-quickchart {\n",
              "      --bg-color: #3B4455;\n",
              "      --fill-color: #D2E3FC;\n",
              "      --hover-bg-color: #434B5C;\n",
              "      --hover-fill-color: #FFFFFF;\n",
              "      --disabled-bg-color: #3B4455;\n",
              "      --disabled-fill-color: #666;\n",
              "  }\n",
              "\n",
              "  .colab-df-quickchart {\n",
              "    background-color: var(--bg-color);\n",
              "    border: none;\n",
              "    border-radius: 50%;\n",
              "    cursor: pointer;\n",
              "    display: none;\n",
              "    fill: var(--fill-color);\n",
              "    height: 32px;\n",
              "    padding: 0;\n",
              "    width: 32px;\n",
              "  }\n",
              "\n",
              "  .colab-df-quickchart:hover {\n",
              "    background-color: var(--hover-bg-color);\n",
              "    box-shadow: 0 1px 2px rgba(60, 64, 67, 0.3), 0 1px 3px 1px rgba(60, 64, 67, 0.15);\n",
              "    fill: var(--button-hover-fill-color);\n",
              "  }\n",
              "\n",
              "  .colab-df-quickchart-complete:disabled,\n",
              "  .colab-df-quickchart-complete:disabled:hover {\n",
              "    background-color: var(--disabled-bg-color);\n",
              "    fill: var(--disabled-fill-color);\n",
              "    box-shadow: none;\n",
              "  }\n",
              "\n",
              "  .colab-df-spinner {\n",
              "    border: 2px solid var(--fill-color);\n",
              "    border-color: transparent;\n",
              "    border-bottom-color: var(--fill-color);\n",
              "    animation:\n",
              "      spin 1s steps(1) infinite;\n",
              "  }\n",
              "\n",
              "  @keyframes spin {\n",
              "    0% {\n",
              "      border-color: transparent;\n",
              "      border-bottom-color: var(--fill-color);\n",
              "      border-left-color: var(--fill-color);\n",
              "    }\n",
              "    20% {\n",
              "      border-color: transparent;\n",
              "      border-left-color: var(--fill-color);\n",
              "      border-top-color: var(--fill-color);\n",
              "    }\n",
              "    30% {\n",
              "      border-color: transparent;\n",
              "      border-left-color: var(--fill-color);\n",
              "      border-top-color: var(--fill-color);\n",
              "      border-right-color: var(--fill-color);\n",
              "    }\n",
              "    40% {\n",
              "      border-color: transparent;\n",
              "      border-right-color: var(--fill-color);\n",
              "      border-top-color: var(--fill-color);\n",
              "    }\n",
              "    60% {\n",
              "      border-color: transparent;\n",
              "      border-right-color: var(--fill-color);\n",
              "    }\n",
              "    80% {\n",
              "      border-color: transparent;\n",
              "      border-right-color: var(--fill-color);\n",
              "      border-bottom-color: var(--fill-color);\n",
              "    }\n",
              "    90% {\n",
              "      border-color: transparent;\n",
              "      border-bottom-color: var(--fill-color);\n",
              "    }\n",
              "  }\n",
              "</style>\n",
              "\n",
              "      <script>\n",
              "        async function quickchart(key) {\n",
              "          const quickchartButtonEl =\n",
              "            document.querySelector('#' + key + ' button');\n",
              "          quickchartButtonEl.disabled = true;  // To prevent multiple clicks.\n",
              "          quickchartButtonEl.classList.add('colab-df-spinner');\n",
              "          try {\n",
              "            const charts = await google.colab.kernel.invokeFunction(\n",
              "                'suggestCharts', [key], {});\n",
              "          } catch (error) {\n",
              "            console.error('Error during call to suggestCharts:', error);\n",
              "          }\n",
              "          quickchartButtonEl.classList.remove('colab-df-spinner');\n",
              "          quickchartButtonEl.classList.add('colab-df-quickchart-complete');\n",
              "        }\n",
              "        (() => {\n",
              "          let quickchartButtonEl =\n",
              "            document.querySelector('#df-e811f833-741b-4a1e-bc26-b611558ed4e7 button');\n",
              "          quickchartButtonEl.style.display =\n",
              "            google.colab.kernel.accessAllowed ? 'block' : 'none';\n",
              "        })();\n",
              "      </script>\n",
              "    </div>\n",
              "\n",
              "    </div>\n",
              "  </div>\n"
            ],
            "application/vnd.google.colaboratory.intrinsic+json": {
              "type": "dataframe",
              "summary": "{\n  \"name\": \"titanic_data\",\n  \"rows\": 8,\n  \"fields\": [\n    {\n      \"column\": \"PassengerId\",\n      \"properties\": {\n        \"dtype\": \"number\",\n        \"std\": 320.8159711429856,\n        \"min\": 1.0,\n        \"max\": 891.0,\n        \"num_unique_values\": 6,\n        \"samples\": [\n          891.0,\n          446.0,\n          668.5\n        ],\n        \"semantic_type\": \"\",\n        \"description\": \"\"\n      }\n    },\n    {\n      \"column\": \"Survived\",\n      \"properties\": {\n        \"dtype\": \"number\",\n        \"std\": 314.8713661874558,\n        \"min\": 0.0,\n        \"max\": 891.0,\n        \"num_unique_values\": 5,\n        \"samples\": [\n          0.3838383838383838,\n          1.0,\n          0.4865924542648585\n        ],\n        \"semantic_type\": \"\",\n        \"description\": \"\"\n      }\n    },\n    {\n      \"column\": \"Pclass\",\n      \"properties\": {\n        \"dtype\": \"number\",\n        \"std\": 314.2523437079693,\n        \"min\": 0.8360712409770513,\n        \"max\": 891.0,\n        \"num_unique_values\": 6,\n        \"samples\": [\n          891.0,\n          2.308641975308642,\n          3.0\n        ],\n        \"semantic_type\": \"\",\n        \"description\": \"\"\n      }\n    },\n    {\n      \"column\": \"Age\",\n      \"properties\": {\n        \"dtype\": \"number\",\n        \"std\": 305.2978992449289,\n        \"min\": 0.42,\n        \"max\": 891.0,\n        \"num_unique_values\": 7,\n        \"samples\": [\n          891.0,\n          29.69911764705882,\n          35.0\n        ],\n        \"semantic_type\": \"\",\n        \"description\": \"\"\n      }\n    },\n    {\n      \"column\": \"SibSp\",\n      \"properties\": {\n        \"dtype\": \"number\",\n        \"std\": 314.4908277465442,\n        \"min\": 0.0,\n        \"max\": 891.0,\n        \"num_unique_values\": 6,\n        \"samples\": [\n          891.0,\n          0.5230078563411896,\n          8.0\n        ],\n        \"semantic_type\": \"\",\n        \"description\": \"\"\n      }\n    },\n    {\n      \"column\": \"Parch\",\n      \"properties\": {\n        \"dtype\": \"number\",\n        \"std\": 314.65971717879,\n        \"min\": 0.0,\n        \"max\": 891.0,\n        \"num_unique_values\": 5,\n        \"samples\": [\n          0.38159371492704824,\n          6.0,\n          0.8060572211299559\n        ],\n        \"semantic_type\": \"\",\n        \"description\": \"\"\n      }\n    },\n    {\n      \"column\": \"Fare\",\n      \"properties\": {\n        \"dtype\": \"number\",\n        \"std\": 330.6256632228577,\n        \"min\": 0.0,\n        \"max\": 891.0,\n        \"num_unique_values\": 8,\n        \"samples\": [\n          32.204207968574636,\n          14.4542,\n          891.0\n        ],\n        \"semantic_type\": \"\",\n        \"description\": \"\"\n      }\n    }\n  ]\n}"
            }
          },
          "metadata": {},
          "execution_count": 13
        }
      ]
    },
    {
      "cell_type": "code",
      "source": [
        "# Finding the number of people survived and not survived\n",
        "titanic_data['Survived'].value_counts()"
      ],
      "metadata": {
        "colab": {
          "base_uri": "https://localhost:8080/",
          "height": 178
        },
        "id": "6LaZX1cB9Rko",
        "outputId": "893273c6-4ae4-4530-e9fe-94d79b245612"
      },
      "execution_count": 14,
      "outputs": [
        {
          "output_type": "execute_result",
          "data": {
            "text/plain": [
              "Survived\n",
              "0    549\n",
              "1    342\n",
              "Name: count, dtype: int64"
            ],
            "text/html": [
              "<div>\n",
              "<style scoped>\n",
              "    .dataframe tbody tr th:only-of-type {\n",
              "        vertical-align: middle;\n",
              "    }\n",
              "\n",
              "    .dataframe tbody tr th {\n",
              "        vertical-align: top;\n",
              "    }\n",
              "\n",
              "    .dataframe thead th {\n",
              "        text-align: right;\n",
              "    }\n",
              "</style>\n",
              "<table border=\"1\" class=\"dataframe\">\n",
              "  <thead>\n",
              "    <tr style=\"text-align: right;\">\n",
              "      <th></th>\n",
              "      <th>count</th>\n",
              "    </tr>\n",
              "    <tr>\n",
              "      <th>Survived</th>\n",
              "      <th></th>\n",
              "    </tr>\n",
              "  </thead>\n",
              "  <tbody>\n",
              "    <tr>\n",
              "      <th>0</th>\n",
              "      <td>549</td>\n",
              "    </tr>\n",
              "    <tr>\n",
              "      <th>1</th>\n",
              "      <td>342</td>\n",
              "    </tr>\n",
              "  </tbody>\n",
              "</table>\n",
              "</div><br><label><b>dtype:</b> int64</label>"
            ]
          },
          "metadata": {},
          "execution_count": 14
        }
      ]
    },
    {
      "cell_type": "markdown",
      "source": [
        "**Data Visualization**"
      ],
      "metadata": {
        "id": "-JipzwoJ98IY"
      }
    },
    {
      "cell_type": "code",
      "source": [
        "sns.set()"
      ],
      "metadata": {
        "id": "Hc7MfIEz9v9F"
      },
      "execution_count": 15,
      "outputs": []
    },
    {
      "cell_type": "code",
      "source": [
        "# Making a count plot for \"Survived\" column\n",
        "sns.countplot(x='Survived', data=titanic_data)"
      ],
      "metadata": {
        "colab": {
          "base_uri": "https://localhost:8080/",
          "height": 476
        },
        "id": "g6H8KyWG-Edk",
        "outputId": "6feb5759-6f8b-4eeb-86ed-fa93f0a96287"
      },
      "execution_count": 17,
      "outputs": [
        {
          "output_type": "execute_result",
          "data": {
            "text/plain": [
              "<Axes: xlabel='Survived', ylabel='count'>"
            ]
          },
          "metadata": {},
          "execution_count": 17
        },
        {
          "output_type": "display_data",
          "data": {
            "text/plain": [
              "<Figure size 640x480 with 1 Axes>"
            ],
            "image/png": "[encoded data removed]"
          },
          "metadata": {}
        }
      ]
    },
    {
      "cell_type": "code",
      "source": [
        "# Finding the exact number of males and females\n",
        "titanic_data['Sex'].value_counts()"
      ],
      "metadata": {
        "colab": {
          "base_uri": "https://localhost:8080/",
          "height": 178
        },
        "id": "2APMApYE_KPn",
        "outputId": "5873281c-bcf1-49e0-b430-b1a79a40e557"
      },
      "execution_count": 19,
      "outputs": [
        {
          "output_type": "execute_result",
          "data": {
            "text/plain": [
              "Sex\n",
              "male      577\n",
              "female    314\n",
              "Name: count, dtype: int64"
            ],
            "text/html": [
              "<div>\n",
              "<style scoped>\n",
              "    .dataframe tbody tr th:only-of-type {\n",
              "        vertical-align: middle;\n",
              "    }\n",
              "\n",
              "    .dataframe tbody tr th {\n",
              "        vertical-align: top;\n",
              "    }\n",
              "\n",
              "    .dataframe thead th {\n",
              "        text-align: right;\n",
              "    }\n",
              "</style>\n",
              "<table border=\"1\" class=\"dataframe\">\n",
              "  <thead>\n",
              "    <tr style=\"text-align: right;\">\n",
              "      <th></th>\n",
              "      <th>count</th>\n",
              "    </tr>\n",
              "    <tr>\n",
              "      <th>Sex</th>\n",
              "      <th></th>\n",
              "    </tr>\n",
              "  </thead>\n",
              "  <tbody>\n",
              "    <tr>\n",
              "      <th>male</th>\n",
              "      <td>577</td>\n",
              "    </tr>\n",
              "    <tr>\n",
              "      <th>female</th>\n",
              "      <td>314</td>\n",
              "    </tr>\n",
              "  </tbody>\n",
              "</table>\n",
              "</div><br><label><b>dtype:</b> int64</label>"
            ]
          },
          "metadata": {},
          "execution_count": 19
        }
      ]
    },
    {
      "cell_type": "code",
      "source": [
        "#  Making a count plot for \"Sex\" column\n",
        "sns.countplot(x='Sex', data=titanic_data)"
      ],
      "metadata": {
        "colab": {
          "base_uri": "https://localhost:8080/",
          "height": 478
        },
        "id": "Zm4y6qm7-TBD",
        "outputId": "cb813876-aa7e-49fc-c9c1-e2b439a51899"
      },
      "execution_count": 18,
      "outputs": [
        {
          "output_type": "execute_result",
          "data": {
            "text/plain": [
              "<Axes: xlabel='Sex', ylabel='count'>"
            ]
          },
          "metadata": {},
          "execution_count": 18
        },
        {
          "output_type": "display_data",
          "data": {
            "text/plain": [
              "<Figure size 640x480 with 1 Axes>"
            ],
            "image/png": "[encoded data removed]"
          },
          "metadata": {}
        }
      ]
    },
    {
      "cell_type": "code",
      "source": [
        "# Number of survivors based on the gender\n",
        "sns.countplot(x='Sex', hue='Survived', data=titanic_data)"
      ],
      "metadata": {
        "colab": {
          "base_uri": "https://localhost:8080/",
          "height": 476
        },
        "id": "2MPUOcvT-7dQ",
        "outputId": "ea5cd249-0de5-49d9-8714-473b3fb1bc50"
      },
      "execution_count": 20,
      "outputs": [
        {
          "output_type": "execute_result",
          "data": {
            "text/plain": [
              "<Axes: xlabel='Sex', ylabel='count'>"
            ]
          },
          "metadata": {},
          "execution_count": 20
        },
        {
          "output_type": "display_data",
          "data": {
            "text/plain": [
              "<Figure size 640x480 with 1 Axes>"
            ],
            "image/png": "[encoded data removed]"
          },
          "metadata": {}
        }
      ]
    },
    {
      "cell_type": "markdown",
      "source": [
        "**Survival**\n",
        "\n",
        "**0 --> No**\n",
        "\n",
        "**1 --> Yes**"
      ],
      "metadata": {
        "id": "ONS0RcAaAPzS"
      }
    },
    {
      "cell_type": "code",
      "source": [
        "# Making a countplot for \"Pclass\" column\n",
        "sns.countplot(x='Pclass', data=titanic_data)"
      ],
      "metadata": {
        "colab": {
          "base_uri": "https://localhost:8080/",
          "height": 476
        },
        "id": "A78cr4D1_yO-",
        "outputId": "ac8ee279-0c4a-4272-e06b-ae5d14e34087"
      },
      "execution_count": 21,
      "outputs": [
        {
          "output_type": "execute_result",
          "data": {
            "text/plain": [
              "<Axes: xlabel='Pclass', ylabel='count'>"
            ]
          },
          "metadata": {},
          "execution_count": 21
        },
        {
          "output_type": "display_data",
          "data": {
            "text/plain": [
              "<Figure size 640x480 with 1 Axes>"
            ],
            "image/png": "[encoded data removed]"
          },
          "metadata": {}
        }
      ]
    },
    {
      "cell_type": "markdown",
      "source": [
        "**PClass(Ticket class)**\n",
        "\n",
        "1 : 1st class\n",
        "\n",
        "2 : 2nd class\n",
        "\n",
        "3 : 3rd class"
      ],
      "metadata": {
        "id": "LizqMqoIA4Fv"
      }
    },
    {
      "cell_type": "code",
      "source": [
        "# Number of people survived based on \"Pclass\"\n",
        "sns.countplot(x='Pclass', hue='Survived', data=titanic_data)"
      ],
      "metadata": {
        "colab": {
          "base_uri": "https://localhost:8080/",
          "height": 476
        },
        "id": "AJDKfU60AyB2",
        "outputId": "aa29373a-b5d9-4c10-931d-23a2bf13be2a"
      },
      "execution_count": 22,
      "outputs": [
        {
          "output_type": "execute_result",
          "data": {
            "text/plain": [
              "<Axes: xlabel='Pclass', ylabel='count'>"
            ]
          },
          "metadata": {},
          "execution_count": 22
        },
        {
          "output_type": "display_data",
          "data": {
            "text/plain": [
              "<Figure size 640x480 with 1 Axes>"
            ],
            "image/png": "[encoded data removed]"
          },
          "metadata": {}
        }
      ]
    },
    {
      "cell_type": "markdown",
      "source": [
        "**Encoding the Categorical Column**"
      ],
      "metadata": {
        "id": "Vs4EJfnqJNjT"
      }
    },
    {
      "cell_type": "code",
      "source": [
        "titanic_data['Sex'].value_counts()"
      ],
      "metadata": {
        "colab": {
          "base_uri": "https://localhost:8080/",
          "height": 178
        },
        "id": "IO0GfxjSBtvJ",
        "outputId": "0103b2e9-d482-4b8a-b037-07661d96cb7b"
      },
      "execution_count": 23,
      "outputs": [
        {
          "output_type": "execute_result",
          "data": {
            "text/plain": [
              "Sex\n",
              "male      577\n",
              "female    314\n",
              "Name: count, dtype: int64"
            ],
            "text/html": [
              "<div>\n",
              "<style scoped>\n",
              "    .dataframe tbody tr th:only-of-type {\n",
              "        vertical-align: middle;\n",
              "    }\n",
              "\n",
              "    .dataframe tbody tr th {\n",
              "        vertical-align: top;\n",
              "    }\n",
              "\n",
              "    .dataframe thead th {\n",
              "        text-align: right;\n",
              "    }\n",
              "</style>\n",
              "<table border=\"1\" class=\"dataframe\">\n",
              "  <thead>\n",
              "    <tr style=\"text-align: right;\">\n",
              "      <th></th>\n",
              "      <th>count</th>\n",
              "    </tr>\n",
              "    <tr>\n",
              "      <th>Sex</th>\n",
              "      <th></th>\n",
              "    </tr>\n",
              "  </thead>\n",
              "  <tbody>\n",
              "    <tr>\n",
              "      <th>male</th>\n",
              "      <td>577</td>\n",
              "    </tr>\n",
              "    <tr>\n",
              "      <th>female</th>\n",
              "      <td>314</td>\n",
              "    </tr>\n",
              "  </tbody>\n",
              "</table>\n",
              "</div><br><label><b>dtype:</b> int64</label>"
            ]
          },
          "metadata": {},
          "execution_count": 23
        }
      ]
    },
    {
      "cell_type": "code",
      "source": [
        "titanic_data['Embarked'].value_counts()"
      ],
      "metadata": {
        "colab": {
          "base_uri": "https://localhost:8080/",
          "height": 209
        },
        "id": "hspws7-lJdpd",
        "outputId": "b0d21562-ac29-4d15-b6b6-cae7c2b3c676"
      },
      "execution_count": 24,
      "outputs": [
        {
          "output_type": "execute_result",
          "data": {
            "text/plain": [
              "Embarked\n",
              "S    646\n",
              "C    168\n",
              "Q     77\n",
              "Name: count, dtype: int64"
            ],
            "text/html": [
              "<div>\n",
              "<style scoped>\n",
              "    .dataframe tbody tr th:only-of-type {\n",
              "        vertical-align: middle;\n",
              "    }\n",
              "\n",
              "    .dataframe tbody tr th {\n",
              "        vertical-align: top;\n",
              "    }\n",
              "\n",
              "    .dataframe thead th {\n",
              "        text-align: right;\n",
              "    }\n",
              "</style>\n",
              "<table border=\"1\" class=\"dataframe\">\n",
              "  <thead>\n",
              "    <tr style=\"text-align: right;\">\n",
              "      <th></th>\n",
              "      <th>count</th>\n",
              "    </tr>\n",
              "    <tr>\n",
              "      <th>Embarked</th>\n",
              "      <th></th>\n",
              "    </tr>\n",
              "  </thead>\n",
              "  <tbody>\n",
              "    <tr>\n",
              "      <th>S</th>\n",
              "      <td>646</td>\n",
              "    </tr>\n",
              "    <tr>\n",
              "      <th>C</th>\n",
              "      <td>168</td>\n",
              "    </tr>\n",
              "    <tr>\n",
              "      <th>Q</th>\n",
              "      <td>77</td>\n",
              "    </tr>\n",
              "  </tbody>\n",
              "</table>\n",
              "</div><br><label><b>dtype:</b> int64</label>"
            ]
          },
          "metadata": {},
          "execution_count": 24
        }
      ]
    },
    {
      "cell_type": "code",
      "source": [
        "#Converting categorical columns from words to number as we can't train model on the text data\n",
        "titanic_data.replace({'Sex':{'male':0,'female':1} , 'Embarked':{'S':0,'C':1,'Q':2}} , inplace=True)"
      ],
      "metadata": {
        "colab": {
          "base_uri": "https://localhost:8080/"
        },
        "id": "ij4-WTeqJiyp",
        "outputId": "2b30d864-b421-4f12-c9d1-f08c35a83b90"
      },
      "execution_count": 25,
      "outputs": [
        {
          "output_type": "stream",
          "name": "stderr",
          "text": [
            "/tmp/ipython-input-2991066319.py:2: FutureWarning: Downcasting behavior in `replace` is deprecated and will be removed in a future version. To retain the old behavior, explicitly call `result.infer_objects(copy=False)`. To opt-in to the future behavior, set `pd.set_option('future.no_silent_downcasting', True)`\n",
            "  titanic_data.replace({'Sex':{'male':0,'female':1} , 'Embarked':{'S':0,'C':1,'Q':2}} , inplace=True)\n"
          ]
        }
      ]
    },
    {
      "cell_type": "code",
      "source": [
        "titanic_data.head()"
      ],
      "metadata": {
        "colab": {
          "base_uri": "https://localhost:8080/",
          "height": 241
        },
        "id": "Y78PChpbKeaH",
        "outputId": "d6923439-52e5-40f7-d6d8-c89492cc6a13"
      },
      "execution_count": 26,
      "outputs": [
        {
          "output_type": "execute_result",
          "data": {
            "text/plain": [
              "   PassengerId  Survived  Pclass  \\\n",
              "0            1         0       3   \n",
              "1            2         1       1   \n",
              "2            3         1       3   \n",
              "3            4         1       1   \n",
              "4            5         0       3   \n",
              "\n",
              "                                                Name  Sex   Age  SibSp  Parch  \\\n",
              "0                            Braund, Mr. Owen Harris    0  22.0      1      0   \n",
              "1  Cumings, Mrs. John Bradley (Florence Briggs Th...    1  38.0      1      0   \n",
              "2                             Heikkinen, Miss. Laina    1  26.0      0      0   \n",
              "3       Futrelle, Mrs. Jacques Heath (Lily May Peel)    1  35.0      1      0   \n",
              "4                           Allen, Mr. William Henry    0  35.0      0      0   \n",
              "\n",
              "             Ticket     Fare  Embarked  \n",
              "0         A/5 21171   7.2500         0  \n",
              "1          PC 17599  71.2833         1  \n",
              "2  STON/O2. 3101282   7.9250         0  \n",
              "3            113803  53.1000         0  \n",
              "4            373450   8.0500         0  "
            ],
            "text/html": [
              "\n",
              "  <div id=\"df-d1c27029-0ff6-462d-a45e-3c81441ca08f\" class=\"colab-df-container\">\n",
              "    <div>\n",
              "<style scoped>\n",
              "    .dataframe tbody tr th:only-of-type {\n",
              "        vertical-align: middle;\n",
              "    }\n",
              "\n",
              "    .dataframe tbody tr th {\n",
              "        vertical-align: top;\n",
              "    }\n",
              "\n",
              "    .dataframe thead th {\n",
              "        text-align: right;\n",
              "    }\n",
              "</style>\n",
              "<table border=\"1\" class=\"dataframe\">\n",
              "  <thead>\n",
              "    <tr style=\"text-align: right;\">\n",
              "      <th></th>\n",
              "      <th>PassengerId</th>\n",
              "      <th>Survived</th>\n",
              "      <th>Pclass</th>\n",
              "      <th>Name</th>\n",
              "      <th>Sex</th>\n",
              "      <th>Age</th>\n",
              "      <th>SibSp</th>\n",
              "      <th>Parch</th>\n",
              "      <th>Ticket</th>\n",
              "      <th>Fare</th>\n",
              "      <th>Embarked</th>\n",
              "    </tr>\n",
              "  </thead>\n",
              "  <tbody>\n",
              "    <tr>\n",
              "      <th>0</th>\n",
              "      <td>1</td>\n",
              "      <td>0</td>\n",
              "      <td>3</td>\n",
              "      <td>Braund, Mr. Owen Harris</td>\n",
              "      <td>0</td>\n",
              "      <td>22.0</td>\n",
              "      <td>1</td>\n",
              "      <td>0</td>\n",
              "      <td>A/5 21171</td>\n",
              "      <td>7.2500</td>\n",
              "      <td>0</td>\n",
              "    </tr>\n",
              "    <tr>\n",
              "      <th>1</th>\n",
              "      <td>2</td>\n",
              "      <td>1</td>\n",
              "      <td>1</td>\n",
              "      <td>Cumings, Mrs. John Bradley (Florence Briggs Th...</td>\n",
              "      <td>1</td>\n",
              "      <td>38.0</td>\n",
              "      <td>1</td>\n",
              "      <td>0</td>\n",
              "      <td>PC 17599</td>\n",
              "      <td>71.2833</td>\n",
              "      <td>1</td>\n",
              "    </tr>\n",
              "    <tr>\n",
              "      <th>2</th>\n",
              "      <td>3</td>\n",
              "      <td>1</td>\n",
              "      <td>3</td>\n",
              "      <td>Heikkinen, Miss. Laina</td>\n",
              "      <td>1</td>\n",
              "      <td>26.0</td>\n",
              "      <td>0</td>\n",
              "      <td>0</td>\n",
              "      <td>STON/O2. 3101282</td>\n",
              "      <td>7.9250</td>\n",
              "      <td>0</td>\n",
              "    </tr>\n",
              "    <tr>\n",
              "      <th>3</th>\n",
              "      <td>4</td>\n",
              "      <td>1</td>\n",
              "      <td>1</td>\n",
              "      <td>Futrelle, Mrs. Jacques Heath (Lily May Peel)</td>\n",
              "      <td>1</td>\n",
              "      <td>35.0</td>\n",
              "      <td>1</td>\n",
              "      <td>0</td>\n",
              "      <td>113803</td>\n",
              "      <td>53.1000</td>\n",
              "      <td>0</td>\n",
              "    </tr>\n",
              "    <tr>\n",
              "      <th>4</th>\n",
              "      <td>5</td>\n",
              "      <td>0</td>\n",
              "      <td>3</td>\n",
              "      <td>Allen, Mr. William Henry</td>\n",
              "      <td>0</td>\n",
              "      <td>35.0</td>\n",
              "      <td>0</td>\n",
              "      <td>0</td>\n",
              "      <td>373450</td>\n",
              "      <td>8.0500</td>\n",
              "      <td>0</td>\n",
              "    </tr>\n",
              "  </tbody>\n",
              "</table>\n",
              "</div>\n",
              "    <div class=\"colab-df-buttons\">\n",
              "\n",
              "  <div class=\"colab-df-container\">\n",
              "    <button class=\"colab-df-convert\" onclick=\"convertToInteractive('df-d1c27029-0ff6-462d-a45e-3c81441ca08f')\"\n",
              "            title=\"Convert this dataframe to an interactive table.\"\n",
              "            style=\"display:none;\">\n",
              "\n",
              "  <svg xmlns=\"http://www.w3.org/2000/svg\" height=\"24px\" viewBox=\"0 -960 960 960\">\n",
              "    <path d=\"M120-120v-720h720v720H120Zm60-500h600v-160H180v160Zm220 220h160v-160H400v160Zm0 220h160v-160H400v160ZM180-400h160v-160H180v160Zm440 0h160v-160H620v160ZM180-180h160v-160H180v160Zm440 0h160v-160H620v160Z\"/>\n",
              "  </svg>\n",
              "    </button>\n",
              "\n",
              "  <style>\n",
              "    .colab-df-container {\n",
              "      display:flex;\n",
              "      gap: 12px;\n",
              "    }\n",
              "\n",
              "    .colab-df-convert {\n",
              "      background-color: #E8F0FE;\n",
              "      border: none;\n",
              "      border-radius: 50%;\n",
              "      cursor: pointer;\n",
              "      display: none;\n",
              "      fill: #1967D2;\n",
              "      height: 32px;\n",
              "      padding: 0 0 0 0;\n",
              "      width: 32px;\n",
              "    }\n",
              "\n",
              "    .colab-df-convert:hover {\n",
              "      background-color: #E2EBFA;\n",
              "      box-shadow: 0px 1px 2px rgba(60, 64, 67, 0.3), 0px 1px 3px 1px rgba(60, 64, 67, 0.15);\n",
              "      fill: #174EA6;\n",
              "    }\n",
              "\n",
              "    .colab-df-buttons div {\n",
              "      margin-bottom: 4px;\n",
              "    }\n",
              "\n",
              "    [theme=dark] .colab-df-convert {\n",
              "      background-color: #3B4455;\n",
              "      fill: #D2E3FC;\n",
              "    }\n",
              "\n",
              "    [theme=dark] .colab-df-convert:hover {\n",
              "      background-color: #434B5C;\n",
              "      box-shadow: 0px 1px 3px 1px rgba(0, 0, 0, 0.15);\n",
              "      filter: drop-shadow(0px 1px 2px rgba(0, 0, 0, 0.3));\n",
              "      fill: #FFFFFF;\n",
              "    }\n",
              "  </style>\n",
              "\n",
              "    <script>\n",
              "      const buttonEl =\n",
              "        document.querySelector('#df-d1c27029-0ff6-462d-a45e-3c81441ca08f button.colab-df-convert');\n",
              "      buttonEl.style.display =\n",
              "        google.colab.kernel.accessAllowed ? 'block' : 'none';\n",
              "\n",
              "      async function convertToInteractive(key) {\n",
              "        const element = document.querySelector('#df-d1c27029-0ff6-462d-a45e-3c81441ca08f');\n",
              "        const dataTable =\n",
              "          await google.colab.kernel.invokeFunction('convertToInteractive',\n",
              "                                                    [key], {});\n",
              "        if (!dataTable) return;\n",
              "\n",
              "        const docLinkHtml = 'Like what you see? Visit the ' +\n",
              "          '<a target=\"_blank\" href=https://colab.research.google.com/notebooks/data_table.ipynb>data table notebook</a>'\n",
              "          + ' to learn more about interactive tables.';\n",
              "        element.innerHTML = '';\n",
              "        dataTable['output_type'] = 'display_data';\n",
              "        await google.colab.output.renderOutput(dataTable, element);\n",
              "        const docLink = document.createElement('div');\n",
              "        docLink.innerHTML = docLinkHtml;\n",
              "        element.appendChild(docLink);\n",
              "      }\n",
              "    </script>\n",
              "  </div>\n",
              "\n",
              "\n",
              "    <div id=\"df-51a84a3c-0ee0-44f6-9161-2c9a81ac7687\">\n",
              "      <button class=\"colab-df-quickchart\" onclick=\"quickchart('df-51a84a3c-0ee0-44f6-9161-2c9a81ac7687')\"\n",
              "                title=\"Suggest charts\"\n",
              "                style=\"display:none;\">\n",
              "\n",
              "<svg xmlns=\"http://www.w3.org/2000/svg\" height=\"24px\"viewBox=\"0 0 24 24\"\n",
              "     width=\"24px\">\n",
              "    <g>\n",
              "        <path d=\"M19 3H5c-1.1 0-2 .9-2 2v14c0 1.1.9 2 2 2h14c1.1 0 2-.9 2-2V5c0-1.1-.9-2-2-2zM9 17H7v-7h2v7zm4 0h-2V7h2v10zm4 0h-2v-4h2v4z\"/>\n",
              "    </g>\n",
              "</svg>\n",
              "      </button>\n",
              "\n",
              "<style>\n",
              "  .colab-df-quickchart {\n",
              "      --bg-color: #E8F0FE;\n",
              "      --fill-color: #1967D2;\n",
              "      --hover-bg-color: #E2EBFA;\n",
              "      --hover-fill-color: #174EA6;\n",
              "      --disabled-fill-color: #AAA;\n",
              "      --disabled-bg-color: #DDD;\n",
              "  }\n",
              "\n",
              "  [theme=dark] .colab-df-quickchart {\n",
              "      --bg-color: #3B4455;\n",
              "      --fill-color: #D2E3FC;\n",
              "      --hover-bg-color: #434B5C;\n",
              "      --hover-fill-color: #FFFFFF;\n",
              "      --disabled-bg-color: #3B4455;\n",
              "      --disabled-fill-color: #666;\n",
              "  }\n",
              "\n",
              "  .colab-df-quickchart {\n",
              "    background-color: var(--bg-color);\n",
              "    border: none;\n",
              "    border-radius: 50%;\n",
              "    cursor: pointer;\n",
              "    display: none;\n",
              "    fill: var(--fill-color);\n",
              "    height: 32px;\n",
              "    padding: 0;\n",
              "    width: 32px;\n",
              "  }\n",
              "\n",
              "  .colab-df-quickchart:hover {\n",
              "    background-color: var(--hover-bg-color);\n",
              "    box-shadow: 0 1px 2px rgba(60, 64, 67, 0.3), 0 1px 3px 1px rgba(60, 64, 67, 0.15);\n",
              "    fill: var(--button-hover-fill-color);\n",
              "  }\n",
              "\n",
              "  .colab-df-quickchart-complete:disabled,\n",
              "  .colab-df-quickchart-complete:disabled:hover {\n",
              "    background-color: var(--disabled-bg-color);\n",
              "    fill: var(--disabled-fill-color);\n",
              "    box-shadow: none;\n",
              "  }\n",
              "\n",
              "  .colab-df-spinner {\n",
              "    border: 2px solid var(--fill-color);\n",
              "    border-color: transparent;\n",
              "    border-bottom-color: var(--fill-color);\n",
              "    animation:\n",
              "      spin 1s steps(1) infinite;\n",
              "  }\n",
              "\n",
              "  @keyframes spin {\n",
              "    0% {\n",
              "      border-color: transparent;\n",
              "      border-bottom-color: var(--fill-color);\n",
              "      border-left-color: var(--fill-color);\n",
              "    }\n",
              "    20% {\n",
              "      border-color: transparent;\n",
              "      border-left-color: var(--fill-color);\n",
              "      border-top-color: var(--fill-color);\n",
              "    }\n",
              "    30% {\n",
              "      border-color: transparent;\n",
              "      border-left-color: var(--fill-color);\n",
              "      border-top-color: var(--fill-color);\n",
              "      border-right-color: var(--fill-color);\n",
              "    }\n",
              "    40% {\n",
              "      border-color: transparent;\n",
              "      border-right-color: var(--fill-color);\n",
              "      border-top-color: var(--fill-color);\n",
              "    }\n",
              "    60% {\n",
              "      border-color: transparent;\n",
              "      border-right-color: var(--fill-color);\n",
              "    }\n",
              "    80% {\n",
              "      border-color: transparent;\n",
              "      border-right-color: var(--fill-color);\n",
              "      border-bottom-color: var(--fill-color);\n",
              "    }\n",
              "    90% {\n",
              "      border-color: transparent;\n",
              "      border-bottom-color: var(--fill-color);\n",
              "    }\n",
              "  }\n",
              "</style>\n",
              "\n",
              "      <script>\n",
              "        async function quickchart(key) {\n",
              "          const quickchartButtonEl =\n",
              "            document.querySelector('#' + key + ' button');\n",
              "          quickchartButtonEl.disabled = true;  // To prevent multiple clicks.\n",
              "          quickchartButtonEl.classList.add('colab-df-spinner');\n",
              "          try {\n",
              "            const charts = await google.colab.kernel.invokeFunction(\n",
              "                'suggestCharts', [key], {});\n",
              "          } catch (error) {\n",
              "            console.error('Error during call to suggestCharts:', error);\n",
              "          }\n",
              "          quickchartButtonEl.classList.remove('colab-df-spinner');\n",
              "          quickchartButtonEl.classList.add('colab-df-quickchart-complete');\n",
              "        }\n",
              "        (() => {\n",
              "          let quickchartButtonEl =\n",
              "            document.querySelector('#df-51a84a3c-0ee0-44f6-9161-2c9a81ac7687 button');\n",
              "          quickchartButtonEl.style.display =\n",
              "            google.colab.kernel.accessAllowed ? 'block' : 'none';\n",
              "        })();\n",
              "      </script>\n",
              "    </div>\n",
              "\n",
              "    </div>\n",
              "  </div>\n"
            ],
            "application/vnd.google.colaboratory.intrinsic+json": {
              "type": "dataframe",
              "variable_name": "titanic_data",
              "summary": "{\n  \"name\": \"titanic_data\",\n  \"rows\": 891,\n  \"fields\": [\n    {\n      \"column\": \"PassengerId\",\n      \"properties\": {\n        \"dtype\": \"number\",\n        \"std\": 257,\n        \"min\": 1,\n        \"max\": 891,\n        \"num_unique_values\": 891,\n        \"samples\": [\n          710,\n          440,\n          841\n        ],\n        \"semantic_type\": \"\",\n        \"description\": \"\"\n      }\n    },\n    {\n      \"column\": \"Survived\",\n      \"properties\": {\n        \"dtype\": \"number\",\n        \"std\": 0,\n        \"min\": 0,\n        \"max\": 1,\n        \"num_unique_values\": 2,\n        \"samples\": [\n          1,\n          0\n        ],\n        \"semantic_type\": \"\",\n        \"description\": \"\"\n      }\n    },\n    {\n      \"column\": \"Pclass\",\n      \"properties\": {\n        \"dtype\": \"number\",\n        \"std\": 0,\n        \"min\": 1,\n        \"max\": 3,\n        \"num_unique_values\": 3,\n        \"samples\": [\n          3,\n          1\n        ],\n        \"semantic_type\": \"\",\n        \"description\": \"\"\n      }\n    },\n    {\n      \"column\": \"Name\",\n      \"properties\": {\n        \"dtype\": \"string\",\n        \"num_unique_values\": 891,\n        \"samples\": [\n          \"Moubarek, Master. Halim Gonios (\\\"William George\\\")\",\n          \"Kvillner, Mr. Johan Henrik Johannesson\"\n        ],\n        \"semantic_type\": \"\",\n        \"description\": \"\"\n      }\n    },\n    {\n      \"column\": \"Sex\",\n      \"properties\": {\n        \"dtype\": \"number\",\n        \"std\": 0,\n        \"min\": 0,\n        \"max\": 1,\n        \"num_unique_values\": 2,\n        \"samples\": [\n          1,\n          0\n        ],\n        \"semantic_type\": \"\",\n        \"description\": \"\"\n      }\n    },\n    {\n      \"column\": \"Age\",\n      \"properties\": {\n        \"dtype\": \"number\",\n        \"std\": 13.002015226002884,\n        \"min\": 0.42,\n        \"max\": 80.0,\n        \"num_unique_values\": 89,\n        \"samples\": [\n          59.0,\n          36.5\n        ],\n        \"semantic_type\": \"\",\n        \"description\": \"\"\n      }\n    },\n    {\n      \"column\": \"SibSp\",\n      \"properties\": {\n        \"dtype\": \"number\",\n        \"std\": 1,\n        \"min\": 0,\n        \"max\": 8,\n        \"num_unique_values\": 7,\n        \"samples\": [\n          1,\n          0\n        ],\n        \"semantic_type\": \"\",\n        \"description\": \"\"\n      }\n    },\n    {\n      \"column\": \"Parch\",\n      \"properties\": {\n        \"dtype\": \"number\",\n        \"std\": 0,\n        \"min\": 0,\n        \"max\": 6,\n        \"num_unique_values\": 7,\n        \"samples\": [\n          0,\n          1\n        ],\n        \"semantic_type\": \"\",\n        \"description\": \"\"\n      }\n    },\n    {\n      \"column\": \"Ticket\",\n      \"properties\": {\n        \"dtype\": \"string\",\n        \"num_unique_values\": 681,\n        \"samples\": [\n          \"11774\",\n          \"248740\"\n        ],\n        \"semantic_type\": \"\",\n        \"description\": \"\"\n      }\n    },\n    {\n      \"column\": \"Fare\",\n      \"properties\": {\n        \"dtype\": \"number\",\n        \"std\": 49.693428597180905,\n        \"min\": 0.0,\n        \"max\": 512.3292,\n        \"num_unique_values\": 248,\n        \"samples\": [\n          11.2417,\n          51.8625\n        ],\n        \"semantic_type\": \"\",\n        \"description\": \"\"\n      }\n    },\n    {\n      \"column\": \"Embarked\",\n      \"properties\": {\n        \"dtype\": \"number\",\n        \"std\": 0,\n        \"min\": 0,\n        \"max\": 2,\n        \"num_unique_values\": 3,\n        \"samples\": [\n          0,\n          1\n        ],\n        \"semantic_type\": \"\",\n        \"description\": \"\"\n      }\n    }\n  ]\n}"
            }
          },
          "metadata": {},
          "execution_count": 26
        }
      ]
    },
    {
      "cell_type": "markdown",
      "source": [
        "**Separating Features and Target**"
      ],
      "metadata": {
        "id": "8M_V15tSKs6N"
      }
    },
    {
      "cell_type": "code",
      "source": [
        "#features & target column separation\n",
        "X = titanic_data.drop(columns=['PassengerId','Name','Ticket','Survived'],axis=1)\n",
        "Y = titanic_data['Survived']"
      ],
      "metadata": {
        "id": "pOxZQlyoKjRg"
      },
      "execution_count": 27,
      "outputs": []
    },
    {
      "cell_type": "code",
      "source": [
        "print(X)"
      ],
      "metadata": {
        "colab": {
          "base_uri": "https://localhost:8080/"
        },
        "id": "C43yNd4uLJ2n",
        "outputId": "a598088e-2f81-45bf-fa2c-0d9b620906f9"
      },
      "execution_count": 28,
      "outputs": [
        {
          "output_type": "stream",
          "name": "stdout",
          "text": [
            "     Pclass  Sex        Age  SibSp  Parch     Fare  Embarked\n",
            "0         3    0  22.000000      1      0   7.2500         0\n",
            "1         1    1  38.000000      1      0  71.2833         1\n",
            "2         3    1  26.000000      0      0   7.9250         0\n",
            "3         1    1  35.000000      1      0  53.1000         0\n",
            "4         3    0  35.000000      0      0   8.0500         0\n",
            "..      ...  ...        ...    ...    ...      ...       ...\n",
            "886       2    0  27.000000      0      0  13.0000         0\n",
            "887       1    1  19.000000      0      0  30.0000         0\n",
            "888       3    1  29.699118      1      2  23.4500         0\n",
            "889       1    0  26.000000      0      0  30.0000         1\n",
            "890       3    0  32.000000      0      0   7.7500         2\n",
            "\n",
            "[891 rows x 7 columns]\n"
          ]
        }
      ]
    },
    {
      "cell_type": "code",
      "source": [
        "print(Y)"
      ],
      "metadata": {
        "colab": {
          "base_uri": "https://localhost:8080/"
        },
        "id": "YTZHMX4oLN1Y",
        "outputId": "db411da4-7064-429b-cdf3-6f1b41284a82"
      },
      "execution_count": 29,
      "outputs": [
        {
          "output_type": "stream",
          "name": "stdout",
          "text": [
            "0      0\n",
            "1      1\n",
            "2      1\n",
            "3      1\n",
            "4      0\n",
            "      ..\n",
            "886    0\n",
            "887    1\n",
            "888    0\n",
            "889    1\n",
            "890    0\n",
            "Name: Survived, Length: 891, dtype: int64\n"
          ]
        }
      ]
    },
    {
      "cell_type": "markdown",
      "source": [
        "**SPlitting the data in training and testing data**"
      ],
      "metadata": {
        "id": "pFrFA12nLSbm"
      }
    },
    {
      "cell_type": "code",
      "source": [
        "#splitting into train & test\n",
        "X_train, X_test, Y_train, Y_test = train_test_split(X,Y, test_size=0.2, random_state=2)"
      ],
      "metadata": {
        "id": "qR68-1v6LPIJ"
      },
      "execution_count": 30,
      "outputs": []
    },
    {
      "cell_type": "code",
      "source": [
        "print(X.shape ,X_train.shape, X_test.shape)"
      ],
      "metadata": {
        "colab": {
          "base_uri": "https://localhost:8080/"
        },
        "id": "KXGSDqpAMCh0",
        "outputId": "bd46ff5b-52b5-49dd-dd79-fa246f855583"
      },
      "execution_count": 31,
      "outputs": [
        {
          "output_type": "stream",
          "name": "stdout",
          "text": [
            "(891, 7) (712, 7) (179, 7)\n"
          ]
        }
      ]
    },
    {
      "cell_type": "markdown",
      "source": [
        "**MODEL TRAINING**"
      ],
      "metadata": {
        "id": "JJm9F7ehMYFM"
      }
    },
    {
      "cell_type": "markdown",
      "source": [
        "Using **Logistic Regression** because it is useful for binary classification as our dataset only containg wheather the passenger in Titanic survived or not(Yes or No)."
      ],
      "metadata": {
        "id": "wiIaP0mZMfMk"
      }
    },
    {
      "cell_type": "code",
      "source": [
        "model = LogisticRegression()"
      ],
      "metadata": {
        "id": "jrR-j8lnMRal"
      },
      "execution_count": 32,
      "outputs": []
    },
    {
      "cell_type": "code",
      "source": [
        "# Training the Logistic Regression model with training data\n",
        "model.fit(X_train, Y_train)"
      ],
      "metadata": {
        "colab": {
          "base_uri": "https://localhost:8080/",
          "height": 228
        },
        "id": "qC8iIrWvOLki",
        "outputId": "a66ce677-adfc-4814-99bb-e3ed8fc9c118"
      },
      "execution_count": 33,
      "outputs": [
        {
          "output_type": "stream",
          "name": "stderr",
          "text": [
            "/usr/local/lib/python3.12/dist-packages/sklearn/linear_model/_logistic.py:465: ConvergenceWarning: lbfgs failed to converge (status=1):\n",
            "STOP: TOTAL NO. OF ITERATIONS REACHED LIMIT.\n",
            "\n",
            "Increase the number of iterations (max_iter) or scale the data as shown in:\n",
            "    https://scikit-learn.org/stable/modules/preprocessing.html\n",
            "Please also refer to the documentation for alternative solver options:\n",
            "    https://scikit-learn.org/stable/modules/linear_model.html#logistic-regression\n",
            "  n_iter_i = _check_optimize_result(\n"
          ]
        },
        {
          "output_type": "execute_result",
          "data": {
            "text/plain": [
              "LogisticRegression()"
            ],
            "text/html": [
              "<style>#sk-container-id-1 {\n",
              "  /* Definition of color scheme common for light and dark mode */\n",
              "  --sklearn-color-text: #000;\n",
              "  --sklearn-color-text-muted: #666;\n",
              "  --sklearn-color-line: gray;\n",
              "  /* Definition of color scheme for unfitted estimators */\n",
              "  --sklearn-color-unfitted-level-0: #fff5e6;\n",
              "  --sklearn-color-unfitted-level-1: #f6e4d2;\n",
              "  --sklearn-color-unfitted-level-2: #ffe0b3;\n",
              "  --sklearn-color-unfitted-level-3: chocolate;\n",
              "  /* Definition of color scheme for fitted estimators */\n",
              "  --sklearn-color-fitted-level-0: #f0f8ff;\n",
              "  --sklearn-color-fitted-level-1: #d4ebff;\n",
              "  --sklearn-color-fitted-level-2: #b3dbfd;\n",
              "  --sklearn-color-fitted-level-3: cornflowerblue;\n",
              "\n",
              "  /* Specific color for light theme */\n",
              "  --sklearn-color-text-on-default-background: var(--sg-text-color, var(--theme-code-foreground, var(--jp-content-font-color1, black)));\n",
              "  --sklearn-color-background: var(--sg-background-color, var(--theme-background, var(--jp-layout-color0, white)));\n",
              "  --sklearn-color-border-box: var(--sg-text-color, var(--theme-code-foreground, var(--jp-content-font-color1, black)));\n",
              "  --sklearn-color-icon: #696969;\n",
              "\n",
              "  @media (prefers-color-scheme: dark) {\n",
              "    /* Redefinition of color scheme for dark theme */\n",
              "    --sklearn-color-text-on-default-background: var(--sg-text-color, var(--theme-code-foreground, var(--jp-content-font-color1, white)));\n",
              "    --sklearn-color-background: var(--sg-background-color, var(--theme-background, var(--jp-layout-color0, #111)));\n",
              "    --sklearn-color-border-box: var(--sg-text-color, var(--theme-code-foreground, var(--jp-content-font-color1, white)));\n",
              "    --sklearn-color-icon: #878787;\n",
              "  }\n",
              "}\n",
              "\n",
              "#sk-container-id-1 {\n",
              "  color: var(--sklearn-color-text);\n",
              "}\n",
              "\n",
              "#sk-container-id-1 pre {\n",
              "  padding: 0;\n",
              "}\n",
              "\n",
              "#sk-container-id-1 input.sk-hidden--visually {\n",
              "  border: 0;\n",
              "  clip: rect(1px 1px 1px 1px);\n",
              "  clip: rect(1px, 1px, 1px, 1px);\n",
              "  height: 1px;\n",
              "  margin: -1px;\n",
              "  overflow: hidden;\n",
              "  padding: 0;\n",
              "  position: absolute;\n",
              "  width: 1px;\n",
              "}\n",
              "\n",
              "#sk-container-id-1 div.sk-dashed-wrapped {\n",
              "  border: 1px dashed var(--sklearn-color-line);\n",
              "  margin: 0 0.4em 0.5em 0.4em;\n",
              "  box-sizing: border-box;\n",
              "  padding-bottom: 0.4em;\n",
              "  background-color: var(--sklearn-color-background);\n",
              "}\n",
              "\n",
              "#sk-container-id-1 div.sk-container {\n",
              "  /* jupyter's `normalize.less` sets `[hidden] { display: none; }`\n",
              "     but bootstrap.min.css set `[hidden] { display: none !important; }`\n",
              "     so we also need the `!important` here to be able to override the\n",
              "     default hidden behavior on the sphinx rendered scikit-learn.org.\n",
              "     See: https://github.com/scikit-learn/scikit-learn/issues/21755 */\n",
              "  display: inline-block !important;\n",
              "  position: relative;\n",
              "}\n",
              "\n",
              "#sk-container-id-1 div.sk-text-repr-fallback {\n",
              "  display: none;\n",
              "}\n",
              "\n",
              "div.sk-parallel-item,\n",
              "div.sk-serial,\n",
              "div.sk-item {\n",
              "  /* draw centered vertical line to link estimators */\n",
              "  background-image: linear-gradient(var(--sklearn-color-text-on-default-background), var(--sklearn-color-text-on-default-background));\n",
              "  background-size: 2px 100%;\n",
              "  background-repeat: no-repeat;\n",
              "  background-position: center center;\n",
              "}\n",
              "\n",
              "/* Parallel-specific style estimator block */\n",
              "\n",
              "#sk-container-id-1 div.sk-parallel-item::after {\n",
              "  content: \"\";\n",
              "  width: 100%;\n",
              "  border-bottom: 2px solid var(--sklearn-color-text-on-default-background);\n",
              "  flex-grow: 1;\n",
              "}\n",
              "\n",
              "#sk-container-id-1 div.sk-parallel {\n",
              "  display: flex;\n",
              "  align-items: stretch;\n",
              "  justify-content: center;\n",
              "  background-color: var(--sklearn-color-background);\n",
              "  position: relative;\n",
              "}\n",
              "\n",
              "#sk-container-id-1 div.sk-parallel-item {\n",
              "  display: flex;\n",
              "  flex-direction: column;\n",
              "}\n",
              "\n",
              "#sk-container-id-1 div.sk-parallel-item:first-child::after {\n",
              "  align-self: flex-end;\n",
              "  width: 50%;\n",
              "}\n",
              "\n",
              "#sk-container-id-1 div.sk-parallel-item:last-child::after {\n",
              "  align-self: flex-start;\n",
              "  width: 50%;\n",
              "}\n",
              "\n",
              "#sk-container-id-1 div.sk-parallel-item:only-child::after {\n",
              "  width: 0;\n",
              "}\n",
              "\n",
              "/* Serial-specific style estimator block */\n",
              "\n",
              "#sk-container-id-1 div.sk-serial {\n",
              "  display: flex;\n",
              "  flex-direction: column;\n",
              "  align-items: center;\n",
              "  background-color: var(--sklearn-color-background);\n",
              "  padding-right: 1em;\n",
              "  padding-left: 1em;\n",
              "}\n",
              "\n",
              "\n",
              "/* Toggleable style: style used for estimator/Pipeline/ColumnTransformer box that is\n",
              "clickable and can be expanded/collapsed.\n",
              "- Pipeline and ColumnTransformer use this feature and define the default style\n",
              "- Estimators will overwrite some part of the style using the `sk-estimator` class\n",
              "*/\n",
              "\n",
              "/* Pipeline and ColumnTransformer style (default) */\n",
              "\n",
              "#sk-container-id-1 div.sk-toggleable {\n",
              "  /* Default theme specific background. It is overwritten whether we have a\n",
              "  specific estimator or a Pipeline/ColumnTransformer */\n",
              "  background-color: var(--sklearn-color-background);\n",
              "}\n",
              "\n",
              "/* Toggleable label */\n",
              "#sk-container-id-1 label.sk-toggleable__label {\n",
              "  cursor: pointer;\n",
              "  display: flex;\n",
              "  width: 100%;\n",
              "  margin-bottom: 0;\n",
              "  padding: 0.5em;\n",
              "  box-sizing: border-box;\n",
              "  text-align: center;\n",
              "  align-items: start;\n",
              "  justify-content: space-between;\n",
              "  gap: 0.5em;\n",
              "}\n",
              "\n",
              "#sk-container-id-1 label.sk-toggleable__label .caption {\n",
              "  font-size: 0.6rem;\n",
              "  font-weight: lighter;\n",
              "  color: var(--sklearn-color-text-muted);\n",
              "}\n",
              "\n",
              "#sk-container-id-1 label.sk-toggleable__label-arrow:before {\n",
              "  /* Arrow on the left of the label */\n",
              "  content: \"▸\";\n",
              "  float: left;\n",
              "  margin-right: 0.25em;\n",
              "  color: var(--sklearn-color-icon);\n",
              "}\n",
              "\n",
              "#sk-container-id-1 label.sk-toggleable__label-arrow:hover:before {\n",
              "  color: var(--sklearn-color-text);\n",
              "}\n",
              "\n",
              "/* Toggleable content - dropdown */\n",
              "\n",
              "#sk-container-id-1 div.sk-toggleable__content {\n",
              "  max-height: 0;\n",
              "  max-width: 0;\n",
              "  overflow: hidden;\n",
              "  text-align: left;\n",
              "  /* unfitted */\n",
              "  background-color: var(--sklearn-color-unfitted-level-0);\n",
              "}\n",
              "\n",
              "#sk-container-id-1 div.sk-toggleable__content.fitted {\n",
              "  /* fitted */\n",
              "  background-color: var(--sklearn-color-fitted-level-0);\n",
              "}\n",
              "\n",
              "#sk-container-id-1 div.sk-toggleable__content pre {\n",
              "  margin: 0.2em;\n",
              "  border-radius: 0.25em;\n",
              "  color: var(--sklearn-color-text);\n",
              "  /* unfitted */\n",
              "  background-color: var(--sklearn-color-unfitted-level-0);\n",
              "}\n",
              "\n",
              "#sk-container-id-1 div.sk-toggleable__content.fitted pre {\n",
              "  /* unfitted */\n",
              "  background-color: var(--sklearn-color-fitted-level-0);\n",
              "}\n",
              "\n",
              "#sk-container-id-1 input.sk-toggleable__control:checked~div.sk-toggleable__content {\n",
              "  /* Expand drop-down */\n",
              "  max-height: 200px;\n",
              "  max-width: 100%;\n",
              "  overflow: auto;\n",
              "}\n",
              "\n",
              "#sk-container-id-1 input.sk-toggleable__control:checked~label.sk-toggleable__label-arrow:before {\n",
              "  content: \"▾\";\n",
              "}\n",
              "\n",
              "/* Pipeline/ColumnTransformer-specific style */\n",
              "\n",
              "#sk-container-id-1 div.sk-label input.sk-toggleable__control:checked~label.sk-toggleable__label {\n",
              "  color: var(--sklearn-color-text);\n",
              "  background-color: var(--sklearn-color-unfitted-level-2);\n",
              "}\n",
              "\n",
              "#sk-container-id-1 div.sk-label.fitted input.sk-toggleable__control:checked~label.sk-toggleable__label {\n",
              "  background-color: var(--sklearn-color-fitted-level-2);\n",
              "}\n",
              "\n",
              "/* Estimator-specific style */\n",
              "\n",
              "/* Colorize estimator box */\n",
              "#sk-container-id-1 div.sk-estimator input.sk-toggleable__control:checked~label.sk-toggleable__label {\n",
              "  /* unfitted */\n",
              "  background-color: var(--sklearn-color-unfitted-level-2);\n",
              "}\n",
              "\n",
              "#sk-container-id-1 div.sk-estimator.fitted input.sk-toggleable__control:checked~label.sk-toggleable__label {\n",
              "  /* fitted */\n",
              "  background-color: var(--sklearn-color-fitted-level-2);\n",
              "}\n",
              "\n",
              "#sk-container-id-1 div.sk-label label.sk-toggleable__label,\n",
              "#sk-container-id-1 div.sk-label label {\n",
              "  /* The background is the default theme color */\n",
              "  color: var(--sklearn-color-text-on-default-background);\n",
              "}\n",
              "\n",
              "/* On hover, darken the color of the background */\n",
              "#sk-container-id-1 div.sk-label:hover label.sk-toggleable__label {\n",
              "  color: var(--sklearn-color-text);\n",
              "  background-color: var(--sklearn-color-unfitted-level-2);\n",
              "}\n",
              "\n",
              "/* Label box, darken color on hover, fitted */\n",
              "#sk-container-id-1 div.sk-label.fitted:hover label.sk-toggleable__label.fitted {\n",
              "  color: var(--sklearn-color-text);\n",
              "  background-color: var(--sklearn-color-fitted-level-2);\n",
              "}\n",
              "\n",
              "/* Estimator label */\n",
              "\n",
              "#sk-container-id-1 div.sk-label label {\n",
              "  font-family: monospace;\n",
              "  font-weight: bold;\n",
              "  display: inline-block;\n",
              "  line-height: 1.2em;\n",
              "}\n",
              "\n",
              "#sk-container-id-1 div.sk-label-container {\n",
              "  text-align: center;\n",
              "}\n",
              "\n",
              "/* Estimator-specific */\n",
              "#sk-container-id-1 div.sk-estimator {\n",
              "  font-family: monospace;\n",
              "  border: 1px dotted var(--sklearn-color-border-box);\n",
              "  border-radius: 0.25em;\n",
              "  box-sizing: border-box;\n",
              "  margin-bottom: 0.5em;\n",
              "  /* unfitted */\n",
              "  background-color: var(--sklearn-color-unfitted-level-0);\n",
              "}\n",
              "\n",
              "#sk-container-id-1 div.sk-estimator.fitted {\n",
              "  /* fitted */\n",
              "  background-color: var(--sklearn-color-fitted-level-0);\n",
              "}\n",
              "\n",
              "/* on hover */\n",
              "#sk-container-id-1 div.sk-estimator:hover {\n",
              "  /* unfitted */\n",
              "  background-color: var(--sklearn-color-unfitted-level-2);\n",
              "}\n",
              "\n",
              "#sk-container-id-1 div.sk-estimator.fitted:hover {\n",
              "  /* fitted */\n",
              "  background-color: var(--sklearn-color-fitted-level-2);\n",
              "}\n",
              "\n",
              "/* Specification for estimator info (e.g. \"i\" and \"?\") */\n",
              "\n",
              "/* Common style for \"i\" and \"?\" */\n",
              "\n",
              ".sk-estimator-doc-link,\n",
              "a:link.sk-estimator-doc-link,\n",
              "a:visited.sk-estimator-doc-link {\n",
              "  float: right;\n",
              "  font-size: smaller;\n",
              "  line-height: 1em;\n",
              "  font-family: monospace;\n",
              "  background-color: var(--sklearn-color-background);\n",
              "  border-radius: 1em;\n",
              "  height: 1em;\n",
              "  width: 1em;\n",
              "  text-decoration: none !important;\n",
              "  margin-left: 0.5em;\n",
              "  text-align: center;\n",
              "  /* unfitted */\n",
              "  border: var(--sklearn-color-unfitted-level-1) 1pt solid;\n",
              "  color: var(--sklearn-color-unfitted-level-1);\n",
              "}\n",
              "\n",
              ".sk-estimator-doc-link.fitted,\n",
              "a:link.sk-estimator-doc-link.fitted,\n",
              "a:visited.sk-estimator-doc-link.fitted {\n",
              "  /* fitted */\n",
              "  border: var(--sklearn-color-fitted-level-1) 1pt solid;\n",
              "  color: var(--sklearn-color-fitted-level-1);\n",
              "}\n",
              "\n",
              "/* On hover */\n",
              "div.sk-estimator:hover .sk-estimator-doc-link:hover,\n",
              ".sk-estimator-doc-link:hover,\n",
              "div.sk-label-container:hover .sk-estimator-doc-link:hover,\n",
              ".sk-estimator-doc-link:hover {\n",
              "  /* unfitted */\n",
              "  background-color: var(--sklearn-color-unfitted-level-3);\n",
              "  color: var(--sklearn-color-background);\n",
              "  text-decoration: none;\n",
              "}\n",
              "\n",
              "div.sk-estimator.fitted:hover .sk-estimator-doc-link.fitted:hover,\n",
              ".sk-estimator-doc-link.fitted:hover,\n",
              "div.sk-label-container:hover .sk-estimator-doc-link.fitted:hover,\n",
              ".sk-estimator-doc-link.fitted:hover {\n",
              "  /* fitted */\n",
              "  background-color: var(--sklearn-color-fitted-level-3);\n",
              "  color: var(--sklearn-color-background);\n",
              "  text-decoration: none;\n",
              "}\n",
              "\n",
              "/* Span, style for the box shown on hovering the info icon */\n",
              ".sk-estimator-doc-link span {\n",
              "  display: none;\n",
              "  z-index: 9999;\n",
              "  position: relative;\n",
              "  font-weight: normal;\n",
              "  right: .2ex;\n",
              "  padding: .5ex;\n",
              "  margin: .5ex;\n",
              "  width: min-content;\n",
              "  min-width: 20ex;\n",
              "  max-width: 50ex;\n",
              "  color: var(--sklearn-color-text);\n",
              "  box-shadow: 2pt 2pt 4pt #999;\n",
              "  /* unfitted */\n",
              "  background: var(--sklearn-color-unfitted-level-0);\n",
              "  border: .5pt solid var(--sklearn-color-unfitted-level-3);\n",
              "}\n",
              "\n",
              ".sk-estimator-doc-link.fitted span {\n",
              "  /* fitted */\n",
              "  background: var(--sklearn-color-fitted-level-0);\n",
              "  border: var(--sklearn-color-fitted-level-3);\n",
              "}\n",
              "\n",
              ".sk-estimator-doc-link:hover span {\n",
              "  display: block;\n",
              "}\n",
              "\n",
              "/* \"?\"-specific style due to the `<a>` HTML tag */\n",
              "\n",
              "#sk-container-id-1 a.estimator_doc_link {\n",
              "  float: right;\n",
              "  font-size: 1rem;\n",
              "  line-height: 1em;\n",
              "  font-family: monospace;\n",
              "  background-color: var(--sklearn-color-background);\n",
              "  border-radius: 1rem;\n",
              "  height: 1rem;\n",
              "  width: 1rem;\n",
              "  text-decoration: none;\n",
              "  /* unfitted */\n",
              "  color: var(--sklearn-color-unfitted-level-1);\n",
              "  border: var(--sklearn-color-unfitted-level-1) 1pt solid;\n",
              "}\n",
              "\n",
              "#sk-container-id-1 a.estimator_doc_link.fitted {\n",
              "  /* fitted */\n",
              "  border: var(--sklearn-color-fitted-level-1) 1pt solid;\n",
              "  color: var(--sklearn-color-fitted-level-1);\n",
              "}\n",
              "\n",
              "/* On hover */\n",
              "#sk-container-id-1 a.estimator_doc_link:hover {\n",
              "  /* unfitted */\n",
              "  background-color: var(--sklearn-color-unfitted-level-3);\n",
              "  color: var(--sklearn-color-background);\n",
              "  text-decoration: none;\n",
              "}\n",
              "\n",
              "#sk-container-id-1 a.estimator_doc_link.fitted:hover {\n",
              "  /* fitted */\n",
              "  background-color: var(--sklearn-color-fitted-level-3);\n",
              "}\n",
              "</style><div id=\"sk-container-id-1\" class=\"sk-top-container\"><div class=\"sk-text-repr-fallback\"><pre>LogisticRegression()</pre><b>In a Jupyter environment, please rerun this cell to show the HTML representation or trust the notebook. <br />On GitHub, the HTML representation is unable to render, please try loading this page with nbviewer.org.</b></div><div class=\"sk-container\" hidden><div class=\"sk-item\"><div class=\"sk-estimator fitted sk-toggleable\"><input class=\"sk-toggleable__control sk-hidden--visually\" id=\"sk-estimator-id-1\" type=\"checkbox\" checked><label for=\"sk-estimator-id-1\" class=\"sk-toggleable__label fitted sk-toggleable__label-arrow\"><div><div>LogisticRegression</div></div><div><a class=\"sk-estimator-doc-link fitted\" rel=\"noreferrer\" target=\"_blank\" href=\"https://scikit-learn.org/1.6/modules/generated/sklearn.linear_model.LogisticRegression.html\">?<span>Documentation for LogisticRegression</span></a><span class=\"sk-estimator-doc-link fitted\">i<span>Fitted</span></span></div></label><div class=\"sk-toggleable__content fitted\"><pre>LogisticRegression()</pre></div> </div></div></div></div>"
            ]
          },
          "metadata": {},
          "execution_count": 33
        }
      ]
    },
    {
      "cell_type": "markdown",
      "source": [
        "**MODEL EVALUATION**"
      ],
      "metadata": {
        "id": "NiJepnTxOv5N"
      }
    },
    {
      "cell_type": "markdown",
      "source": [
        "Accuracy Score"
      ],
      "metadata": {
        "id": "EUuDsMQkOzcU"
      }
    },
    {
      "cell_type": "code",
      "source": [
        "# Accuracy on training data\n",
        "X_train_prediction = model.predict(X_train)"
      ],
      "metadata": {
        "id": "dSJJdpmTObAB"
      },
      "execution_count": 34,
      "outputs": []
    },
    {
      "cell_type": "code",
      "source": [
        "print(X_train_prediction)"
      ],
      "metadata": {
        "colab": {
          "base_uri": "https://localhost:8080/"
        },
        "id": "2fC5nKjKPL2k",
        "outputId": "bdc36b13-117d-4607-9b47-da7b2ebdf3e0"
      },
      "execution_count": 35,
      "outputs": [
        {
          "output_type": "stream",
          "name": "stdout",
          "text": [
            "[0 1 0 0 0 0 0 1 0 0 0 1 0 0 1 0 1 0 0 0 0 0 1 0 0 1 0 0 1 0 1 1 0 0 1 0 1\n",
            " 0 0 0 0 0 0 1 1 0 0 1 0 1 0 1 0 0 0 0 0 0 1 0 1 0 0 1 1 0 0 1 1 0 1 0 0 1\n",
            " 0 0 0 0 0 0 1 0 0 0 1 0 0 0 1 0 1 0 0 1 0 0 0 1 1 1 0 1 0 0 0 0 0 1 0 0 0\n",
            " 1 1 0 0 1 0 0 1 0 0 1 0 0 1 0 1 0 1 0 1 0 1 1 1 1 1 1 0 0 1 1 1 0 0 1 0 0\n",
            " 0 0 0 0 1 0 1 0 0 0 0 0 0 0 0 1 0 0 0 0 0 0 0 0 0 0 1 1 0 0 1 0 1 0 1 1 1\n",
            " 0 0 0 1 0 0 0 1 0 0 1 0 0 0 1 1 0 1 0 0 0 0 0 1 1 0 1 1 1 1 0 0 0 0 0 0 0\n",
            " 0 1 0 0 1 1 1 0 0 1 0 1 1 1 0 0 1 0 0 0 0 1 0 0 0 1 0 0 0 1 0 1 0 1 0 0 0\n",
            " 0 0 0 0 0 0 1 0 1 0 0 1 0 0 1 0 1 0 1 1 0 0 0 0 1 0 1 0 0 1 0 0 0 1 0 0 0\n",
            " 0 1 1 0 0 0 0 0 0 1 0 1 0 0 0 0 0 1 1 1 0 0 0 1 0 1 0 0 0 0 0 0 1 1 0 1 1\n",
            " 0 1 1 1 0 0 0 0 0 0 0 0 0 1 0 0 1 1 1 0 1 0 0 0 0 1 1 0 0 0 1 0 1 1 1 0 0\n",
            " 0 0 1 0 0 0 1 1 0 0 1 0 0 0 0 1 0 0 0 0 0 1 0 0 0 0 1 0 1 1 1 0 1 1 0 0 0\n",
            " 0 1 0 1 0 0 1 1 0 0 0 0 1 0 0 0 0 1 1 0 1 0 1 0 0 0 0 0 1 0 0 0 0 1 1 0 0\n",
            " 1 0 1 0 0 1 0 0 0 0 0 0 0 0 1 0 0 1 1 0 0 0 1 1 0 1 0 0 1 0 0 0 1 1 0 1 0\n",
            " 0 0 0 0 1 0 0 1 0 1 1 0 0 1 0 0 1 0 0 0 1 0 1 1 0 0 1 1 0 1 0 1 1 1 0 1 0\n",
            " 0 1 0 0 1 0 0 1 0 0 0 0 1 1 0 0 1 0 1 0 0 0 0 0 0 1 1 1 0 0 1 1 0 0 0 0 0\n",
            " 0 0 0 0 0 0 0 0 0 0 0 0 1 0 0 0 1 1 0 0 0 0 0 0 0 0 0 0 0 0 1 0 1 0 0 0 0\n",
            " 0 0 1 0 0 0 0 0 1 0 1 0 1 0 0 0 1 0 1 1 1 0 0 0 1 0 1 0 0 0 1 1 1 0 0 1 1\n",
            " 0 0 0 1 0 1 0 0 0 0 0 1 1 0 1 1 1 0 0 0 1 0 0 0 0 1 0 0 0 1 0 0 1 0 0 0 0\n",
            " 1 0 0 1 0 1 0 0 0 1 1 1 1 1 0 0 1 1 0 1 1 1 1 0 0 0 1 1 0 0 1 0 0 0 0 0 0\n",
            " 0 0 0 1 1 0 0 1 0]\n"
          ]
        }
      ]
    },
    {
      "cell_type": "code",
      "source": [
        "training_data_accuracy = accuracy_score(Y_train, X_train_prediction)\n",
        "print('Accuracy score of training data : ', training_data_accuracy)"
      ],
      "metadata": {
        "colab": {
          "base_uri": "https://localhost:8080/"
        },
        "id": "HmvFhZlqPOSr",
        "outputId": "9f081a3e-555d-4d96-b61d-1c4a027738d8"
      },
      "execution_count": 36,
      "outputs": [
        {
          "output_type": "stream",
          "name": "stdout",
          "text": [
            "Accuracy score of training data :  0.8075842696629213\n"
          ]
        }
      ]
    },
    {
      "cell_type": "code",
      "source": [
        "# Accuracy on test data\n",
        "X_test_prediction = model.predict(X_test)"
      ],
      "metadata": {
        "id": "Oqr6Ns4wPwgn"
      },
      "execution_count": 37,
      "outputs": []
    },
    {
      "cell_type": "code",
      "source": [
        "print(X_test_prediction)"
      ],
      "metadata": {
        "colab": {
          "base_uri": "https://localhost:8080/"
        },
        "id": "T4z2H4SFQKht",
        "outputId": "edb4c1e7-d96b-4694-e264-ac76cf3e738e"
      },
      "execution_count": 38,
      "outputs": [
        {
          "output_type": "stream",
          "name": "stdout",
          "text": [
            "[0 0 1 0 0 0 0 0 0 0 0 1 1 0 0 1 0 0 1 0 1 1 0 1 0 1 1 0 0 0 0 0 0 0 0 1 1\n",
            " 0 0 0 0 0 1 0 0 1 1 0 0 1 0 0 0 0 0 0 1 0 0 0 1 0 0 0 1 0 1 0 0 0 1 0 1 0\n",
            " 1 0 0 0 1 0 1 0 0 0 1 1 0 0 1 0 0 0 0 0 0 1 0 1 0 0 1 0 1 1 0 1 1 0 0 0 0\n",
            " 0 0 0 1 1 0 1 0 0 1 0 0 0 0 0 0 1 0 0 0 0 1 1 0 0 0 0 0 0 1 1 1 1 0 1 0 0\n",
            " 0 1 0 0 0 0 1 0 0 1 1 0 1 0 0 0 1 1 0 0 1 0 0 1 1 1 0 0 0 0 0]\n"
          ]
        }
      ]
    },
    {
      "cell_type": "markdown",
      "source": [
        "Evaluation on Test Data"
      ],
      "metadata": {
        "id": "lBx4w__UUU0O"
      }
    },
    {
      "cell_type": "code",
      "source": [
        "test_data_accuracy = accuracy_score(Y_test, X_test_prediction)\n",
        "print('Accuracy score of test data : ', test_data_accuracy)"
      ],
      "metadata": {
        "colab": {
          "base_uri": "https://localhost:8080/"
        },
        "id": "y8rln12fQMnt",
        "outputId": "4031542f-2564-49c9-b0c4-04dc2892dc8d"
      },
      "execution_count": 40,
      "outputs": [
        {
          "output_type": "stream",
          "name": "stdout",
          "text": [
            "Accuracy score of test data :  0.7821229050279329\n"
          ]
        }
      ]
    },
    {
      "cell_type": "markdown",
      "source": [
        "**Saving the Predictions to a csv file**"
      ],
      "metadata": {
        "id": "18Yf3RWXbT2f"
      }
    },
    {
      "cell_type": "code",
      "source": [
        "data = pd.read_csv('/content/drive/MyDrive/DataSets/titanic/test.csv')"
      ],
      "metadata": {
        "id": "A6lYzbYYaXmZ"
      },
      "execution_count": 67,
      "outputs": []
    },
    {
      "cell_type": "code",
      "source": [
        "# Preprocess the test data to match the training data\n",
        "# Drop the 'Cabin' column as most of the values are missing\n",
        "data = data.drop(columns='Cabin', axis=1)\n",
        "\n",
        "# Replacing the missing values in \"Age\" column with mean values\n",
        "data['Age'].fillna(data['Age'].mean(), inplace=True)\n",
        "\n",
        "# Replacing the missing values in \"Fare\" column with mean values (test data might have missing fare)\n",
        "data['Fare'].fillna(data['Fare'].mean(), inplace=True)\n",
        "\n",
        "\n",
        "# Replacing the missing values in \"Embarked\" column with mode value\n",
        "# Need to handle potential missing values in 'Embarked' for the test set as well\n",
        "data['Embarked'].fillna(data['Embarked'].mode()[0], inplace=True)\n",
        "\n",
        "# Converting categorical columns from words to number\n",
        "data.replace({'Sex':{'male':0,'female':1} , 'Embarked':{'S':0,'C':1,'Q':2}} , inplace=True)\n",
        "\n",
        "# Drop the columns that were not used for training\n",
        "data_for_prediction = data.drop(columns=['PassengerId', 'Name', 'Ticket'], axis=1)\n",
        "\n",
        "\n",
        "predictions = model.predict(data_for_prediction)"
      ],
      "metadata": {
        "colab": {
          "base_uri": "https://localhost:8080/"
        },
        "id": "BJP0_V0eaZ-i",
        "outputId": "68eed73b-1e08-403e-9dd7-9ef4322da2e1"
      },
      "execution_count": 69,
      "outputs": [
        {
          "output_type": "stream",
          "name": "stderr",
          "text": [
            "/tmp/ipython-input-3548894647.py:6: FutureWarning: A value is trying to be set on a copy of a DataFrame or Series through chained assignment using an inplace method.\n",
            "The behavior will change in pandas 3.0. This inplace method will never work because the intermediate object on which we are setting values always behaves as a copy.\n",
            "\n",
            "For example, when doing 'df[col].method(value, inplace=True)', try using 'df.method({col: value}, inplace=True)' or df[col] = df[col].method(value) instead, to perform the operation inplace on the original object.\n",
            "\n",
            "\n",
            "  data['Age'].fillna(data['Age'].mean(), inplace=True)\n",
            "/tmp/ipython-input-3548894647.py:9: FutureWarning: A value is trying to be set on a copy of a DataFrame or Series through chained assignment using an inplace method.\n",
            "The behavior will change in pandas 3.0. This inplace method will never work because the intermediate object on which we are setting values always behaves as a copy.\n",
            "\n",
            "For example, when doing 'df[col].method(value, inplace=True)', try using 'df.method({col: value}, inplace=True)' or df[col] = df[col].method(value) instead, to perform the operation inplace on the original object.\n",
            "\n",
            "\n",
            "  data['Fare'].fillna(data['Fare'].mean(), inplace=True)\n",
            "/tmp/ipython-input-3548894647.py:14: FutureWarning: A value is trying to be set on a copy of a DataFrame or Series through chained assignment using an inplace method.\n",
            "The behavior will change in pandas 3.0. This inplace method will never work because the intermediate object on which we are setting values always behaves as a copy.\n",
            "\n",
            "For example, when doing 'df[col].method(value, inplace=True)', try using 'df.method({col: value}, inplace=True)' or df[col] = df[col].method(value) instead, to perform the operation inplace on the original object.\n",
            "\n",
            "\n",
            "  data['Embarked'].fillna(data['Embarked'].mode()[0], inplace=True)\n",
            "/tmp/ipython-input-3548894647.py:17: FutureWarning: Downcasting behavior in `replace` is deprecated and will be removed in a future version. To retain the old behavior, explicitly call `result.infer_objects(copy=False)`. To opt-in to the future behavior, set `pd.set_option('future.no_silent_downcasting', True)`\n",
            "  data.replace({'Sex':{'male':0,'female':1} , 'Embarked':{'S':0,'C':1,'Q':2}} , inplace=True)\n"
          ]
        }
      ]
    },
    {
      "cell_type": "code",
      "source": [
        "# Create a DataFrame with PassengerId and the predictions\n",
        "submission_df = pd.DataFrame({'PassengerId': data['PassengerId'], 'Survived': predictions})\n",
        "\n",
        "# Save the submission DataFrame to a CSV file\n",
        "submission_df.to_csv('titanic_submission.csv', index=False)\n",
        "\n",
        "print(\"Submission file created successfully!\")"
      ],
      "metadata": {
        "colab": {
          "base_uri": "https://localhost:8080/"
        },
        "id": "I_fmij6jbHSI",
        "outputId": "611eb6e6-61c9-4f7a-a147-827fafd6378a"
      },
      "execution_count": 71,
      "outputs": [
        {
          "output_type": "stream",
          "name": "stdout",
          "text": [
            "Submission file created successfully!\n"
          ]
        }
      ]
    },
    {
      "cell_type": "markdown",
      "source": [
        "**Saving the Model to a JobLib file**"
      ],
      "metadata": {
        "id": "w0-llkbQUYbB"
      }
    },
    {
      "cell_type": "code",
      "source": [
        "#Importing dependencies\n",
        "from joblib import dump"
      ],
      "metadata": {
        "id": "ANT43BuCQbtZ"
      },
      "execution_count": 42,
      "outputs": []
    },
    {
      "cell_type": "code",
      "source": [
        "import joblib\n",
        "\n",
        "joblib.dump(model, 'titanic_model.joblib')"
      ],
      "metadata": {
        "colab": {
          "base_uri": "https://localhost:8080/"
        },
        "id": "Ff1qCWzZVpAx",
        "outputId": "86287735-c637-4ca5-ca22-d365e0958011"
      },
      "execution_count": 44,
      "outputs": [
        {
          "output_type": "execute_result",
          "data": {
            "text/plain": [
              "['titanic_model.joblib']"
            ]
          },
          "metadata": {},
          "execution_count": 44
        }
      ]
    },
    {
      "cell_type": "code",
      "source": [
        "#loding from the joblib file\n",
        "loaded_model = joblib.load('titanic_model.joblib')"
      ],
      "metadata": {
        "id": "1jnsC8J8WC-b"
      },
      "execution_count": 45,
      "outputs": []
    },
    {
      "cell_type": "code",
      "source": [
        "#Predict on test data\n",
        "prediction_test = loaded_model.predict(X_test)"
      ],
      "metadata": {
        "id": "yqinNvVTWbqy"
      },
      "execution_count": 51,
      "outputs": []
    },
    {
      "cell_type": "code",
      "source": [
        "print(prediction_test)"
      ],
      "metadata": {
        "colab": {
          "base_uri": "https://localhost:8080/"
        },
        "id": "jsbc78RjWe6a",
        "outputId": "cc3148bb-9da5-4672-a3ba-98293fdc2e5c"
      },
      "execution_count": 52,
      "outputs": [
        {
          "output_type": "stream",
          "name": "stdout",
          "text": [
            "[0 0 1 0 0 0 0 0 0 0 0 1 1 0 0 1 0 0 1 0 1 1 0 1 0 1 1 0 0 0 0 0 0 0 0 1 1\n",
            " 0 0 0 0 0 1 0 0 1 1 0 0 1 0 0 0 0 0 0 1 0 0 0 1 0 0 0 1 0 1 0 0 0 1 0 1 0\n",
            " 1 0 0 0 1 0 1 0 0 0 1 1 0 0 1 0 0 0 0 0 0 1 0 1 0 0 1 0 1 1 0 1 1 0 0 0 0\n",
            " 0 0 0 1 1 0 1 0 0 1 0 0 0 0 0 0 1 0 0 0 0 1 1 0 0 0 0 0 0 1 1 1 1 0 1 0 0\n",
            " 0 1 0 0 0 0 1 0 0 1 1 0 1 0 0 0 1 1 0 0 1 0 0 1 1 1 0 0 0 0 0]\n"
          ]
        }
      ]
    },
    {
      "cell_type": "code",
      "source": [
        "#Predict on train data\n",
        "prediction_train = loaded_model.predict(X_train)"
      ],
      "metadata": {
        "id": "eRgqgznbWhvr"
      },
      "execution_count": 53,
      "outputs": []
    },
    {
      "cell_type": "code",
      "source": [
        "print(prediction_train)"
      ],
      "metadata": {
        "colab": {
          "base_uri": "https://localhost:8080/"
        },
        "id": "AmV3Ul7FWz1P",
        "outputId": "f1f93554-6817-4251-e57c-5c9c6592ed3b"
      },
      "execution_count": 54,
      "outputs": [
        {
          "output_type": "stream",
          "name": "stdout",
          "text": [
            "[0 1 0 0 0 0 0 1 0 0 0 1 0 0 1 0 1 0 0 0 0 0 1 0 0 1 0 0 1 0 1 1 0 0 1 0 1\n",
            " 0 0 0 0 0 0 1 1 0 0 1 0 1 0 1 0 0 0 0 0 0 1 0 1 0 0 1 1 0 0 1 1 0 1 0 0 1\n",
            " 0 0 0 0 0 0 1 0 0 0 1 0 0 0 1 0 1 0 0 1 0 0 0 1 1 1 0 1 0 0 0 0 0 1 0 0 0\n",
            " 1 1 0 0 1 0 0 1 0 0 1 0 0 1 0 1 0 1 0 1 0 1 1 1 1 1 1 0 0 1 1 1 0 0 1 0 0\n",
            " 0 0 0 0 1 0 1 0 0 0 0 0 0 0 0 1 0 0 0 0 0 0 0 0 0 0 1 1 0 0 1 0 1 0 1 1 1\n",
            " 0 0 0 1 0 0 0 1 0 0 1 0 0 0 1 1 0 1 0 0 0 0 0 1 1 0 1 1 1 1 0 0 0 0 0 0 0\n",
            " 0 1 0 0 1 1 1 0 0 1 0 1 1 1 0 0 1 0 0 0 0 1 0 0 0 1 0 0 0 1 0 1 0 1 0 0 0\n",
            " 0 0 0 0 0 0 1 0 1 0 0 1 0 0 1 0 1 0 1 1 0 0 0 0 1 0 1 0 0 1 0 0 0 1 0 0 0\n",
            " 0 1 1 0 0 0 0 0 0 1 0 1 0 0 0 0 0 1 1 1 0 0 0 1 0 1 0 0 0 0 0 0 1 1 0 1 1\n",
            " 0 1 1 1 0 0 0 0 0 0 0 0 0 1 0 0 1 1 1 0 1 0 0 0 0 1 1 0 0 0 1 0 1 1 1 0 0\n",
            " 0 0 1 0 0 0 1 1 0 0 1 0 0 0 0 1 0 0 0 0 0 1 0 0 0 0 1 0 1 1 1 0 1 1 0 0 0\n",
            " 0 1 0 1 0 0 1 1 0 0 0 0 1 0 0 0 0 1 1 0 1 0 1 0 0 0 0 0 1 0 0 0 0 1 1 0 0\n",
            " 1 0 1 0 0 1 0 0 0 0 0 0 0 0 1 0 0 1 1 0 0 0 1 1 0 1 0 0 1 0 0 0 1 1 0 1 0\n",
            " 0 0 0 0 1 0 0 1 0 1 1 0 0 1 0 0 1 0 0 0 1 0 1 1 0 0 1 1 0 1 0 1 1 1 0 1 0\n",
            " 0 1 0 0 1 0 0 1 0 0 0 0 1 1 0 0 1 0 1 0 0 0 0 0 0 1 1 1 0 0 1 1 0 0 0 0 0\n",
            " 0 0 0 0 0 0 0 0 0 0 0 0 1 0 0 0 1 1 0 0 0 0 0 0 0 0 0 0 0 0 1 0 1 0 0 0 0\n",
            " 0 0 1 0 0 0 0 0 1 0 1 0 1 0 0 0 1 0 1 1 1 0 0 0 1 0 1 0 0 0 1 1 1 0 0 1 1\n",
            " 0 0 0 1 0 1 0 0 0 0 0 1 1 0 1 1 1 0 0 0 1 0 0 0 0 1 0 0 0 1 0 0 1 0 0 0 0\n",
            " 1 0 0 1 0 1 0 0 0 1 1 1 1 1 0 0 1 1 0 1 1 1 1 0 0 0 1 1 0 0 1 0 0 0 0 0 0\n",
            " 0 0 0 1 1 0 0 1 0]\n"
          ]
        }
      ]
    },
    {
      "cell_type": "code",
      "source": [
        "#Checking the accuracy score\n",
        "loaded_accuracy_score_train = accuracy_score(Y_train, prediction_train)\n",
        "print('Accuracy score on training data: ',loaded_accuracy_score_train)\n",
        "loaded_accuracy_score_test = accuracy_score(Y_test, prediction_test)\n",
        "print('Accuracy score on test data: ',loaded_accuracy_score_test)"
      ],
      "metadata": {
        "colab": {
          "base_uri": "https://localhost:8080/"
        },
        "id": "Q0BjaQCTW3Gd",
        "outputId": "02928fe2-b812-490c-9aad-42fef233fc01"
      },
      "execution_count": 60,
      "outputs": [
        {
          "output_type": "stream",
          "name": "stdout",
          "text": [
            "Accuracy score on training data:  0.8075842696629213\n",
            "Accuracy score on test data:  0.7821229050279329\n"
          ]
        }
      ]
    }
  ]
}